{
  "nbformat": 4,
  "nbformat_minor": 0,
  "metadata": {
    "colab": {
      "provenance": []
    },
    "kernelspec": {
      "name": "python3",
      "display_name": "Python 3"
    },
    "language_info": {
      "name": "python"
    }
  },
  "cells": [
    {
      "cell_type": "markdown",
      "source": [
        "# Titanic - Machine Learning from Disaster (Kaggle)\n",
        "\n",
        "This was my first attempt at the [Titanic Challenge](https://www.kaggle.com/competitions/titanic/overview) from Kaggle. I developed three models that I submmitted separately.\n",
        "\n",
        "1. A random forest classifier trained on information about sex, age, class and (normalized) fare. It got a score of 0.7799.\n",
        "2. A support vector machine classifier trained on class, sex, age, number of siblings+spouse, number of children/parents, total number of relatives, whether they had a cabin or not, (normalized) fare and place of embarcation. It also got a score of 0.7799.\n",
        "3. A MLP trained on the same data as the SVM. It got a score of 0.7703.\n",
        "\n",
        "This notebook contains the code for these three models. They were originally coded separately, so the name of some variables coincide.\n",
        "\n",
        "At the end, there is a an ensemble of the three models that gets an score of 0.78708 in the challenge."
      ],
      "metadata": {
        "id": "1sxhxS8q0EOS"
      }
    },
    {
      "cell_type": "code",
      "execution_count": 1,
      "metadata": {
        "id": "W2qjlviiPQ_E"
      },
      "outputs": [],
      "source": [
        "# Imports\n",
        "\n",
        "import pandas as pd\n",
        "\n",
        "from sklearn.preprocessing import LabelEncoder, StandardScaler\n",
        "from sklearn.model_selection import train_test_split\n",
        "from sklearn.ensemble import RandomForestClassifier\n",
        "from sklearn.metrics import accuracy_score\n",
        "from sklearn.svm import SVC\n",
        "\n",
        "from tensorflow.keras.models import Sequential\n",
        "from tensorflow.keras.layers import Dense\n",
        "\n",
        "import matplotlib.pyplot as plt"
      ]
    },
    {
      "cell_type": "markdown",
      "source": [
        "## Random forest"
      ],
      "metadata": {
        "id": "qYPfPwTNTaPB"
      }
    },
    {
      "cell_type": "markdown",
      "source": [
        "#### Preprocessing"
      ],
      "metadata": {
        "id": "bnVMQ6eNV6Rx"
      }
    },
    {
      "cell_type": "code",
      "source": [
        "# Loads the dataset with a varible name to use only with this classifier\n",
        "df_rf = pd.read_csv('train.csv')"
      ],
      "metadata": {
        "id": "oKWb4BWCTgzW"
      },
      "execution_count": 2,
      "outputs": []
    },
    {
      "cell_type": "code",
      "source": [
        "# Calculates the mean for the age column and completes nan values\n",
        "mean_age = df_rf['Age'].mean()\n",
        "df_rf['Age'].fillna(mean_age, inplace=True)"
      ],
      "metadata": {
        "id": "RQ42lZEDnqWo"
      },
      "execution_count": 3,
      "outputs": []
    },
    {
      "cell_type": "code",
      "source": [
        "# This creates a column with the total amount of relatives for each passenger\n",
        "df_rf['Relatives'] = df_rf['SibSp'] + df_rf['Parch']"
      ],
      "metadata": {
        "id": "yxGTtgi4nqT-"
      },
      "execution_count": 4,
      "outputs": []
    },
    {
      "cell_type": "code",
      "source": [
        "# This creates a column with a \"normalized\" fare: its the price of the ticket divided by the number of relatives on board\n",
        "df_rf['Norm_fare'] = df_rf.apply(lambda row: row['Fare'] / row['Relatives'] if row['Relatives'] != 0 else row['Fare'], axis=1)"
      ],
      "metadata": {
        "id": "9ZhVL7KpnqQ8"
      },
      "execution_count": 5,
      "outputs": []
    },
    {
      "cell_type": "code",
      "source": [
        "# This encodes sex values as ones and zeros\n",
        "le = LabelEncoder()\n",
        "df_rf['Sex'] = le.fit_transform(df_rf['Sex'])"
      ],
      "metadata": {
        "id": "P9hAolHXnqNr"
      },
      "execution_count": 6,
      "outputs": []
    },
    {
      "cell_type": "code",
      "source": [
        "# Now we split the data into train and test sets\n",
        "X_train, X_test, y_train, y_test = train_test_split(df_rf[['Pclass', 'Sex', 'Age', 'Norm_fare']], df_rf['Survived'], test_size=0.2, random_state=42)"
      ],
      "metadata": {
        "id": "2pp_sgLLnqKr"
      },
      "execution_count": 7,
      "outputs": []
    },
    {
      "cell_type": "markdown",
      "source": [
        "#### Training the model"
      ],
      "metadata": {
        "id": "jAKpsc3NV-Em"
      }
    },
    {
      "cell_type": "code",
      "source": [
        "# This instantiates the random forest classifier\n",
        "rf_classifier = RandomForestClassifier(n_estimators=50,  max_depth=7, random_state=42)"
      ],
      "metadata": {
        "id": "3Uc_5foonqHt"
      },
      "execution_count": 8,
      "outputs": []
    },
    {
      "cell_type": "code",
      "source": [
        "# This trains the model\n",
        "rf_classifier.fit(X_train, y_train)"
      ],
      "metadata": {
        "colab": {
          "base_uri": "https://localhost:8080/",
          "height": 74
        },
        "id": "fM8ZqI29WOr1",
        "outputId": "f6411626-dfdc-46d2-94b2-120359dbfdab"
      },
      "execution_count": 9,
      "outputs": [
        {
          "output_type": "execute_result",
          "data": {
            "text/plain": [
              "RandomForestClassifier(max_depth=7, n_estimators=50, random_state=42)"
            ],
            "text/html": [
              "<style>#sk-container-id-1 {color: black;background-color: white;}#sk-container-id-1 pre{padding: 0;}#sk-container-id-1 div.sk-toggleable {background-color: white;}#sk-container-id-1 label.sk-toggleable__label {cursor: pointer;display: block;width: 100%;margin-bottom: 0;padding: 0.3em;box-sizing: border-box;text-align: center;}#sk-container-id-1 label.sk-toggleable__label-arrow:before {content: \"▸\";float: left;margin-right: 0.25em;color: #696969;}#sk-container-id-1 label.sk-toggleable__label-arrow:hover:before {color: black;}#sk-container-id-1 div.sk-estimator:hover label.sk-toggleable__label-arrow:before {color: black;}#sk-container-id-1 div.sk-toggleable__content {max-height: 0;max-width: 0;overflow: hidden;text-align: left;background-color: #f0f8ff;}#sk-container-id-1 div.sk-toggleable__content pre {margin: 0.2em;color: black;border-radius: 0.25em;background-color: #f0f8ff;}#sk-container-id-1 input.sk-toggleable__control:checked~div.sk-toggleable__content {max-height: 200px;max-width: 100%;overflow: auto;}#sk-container-id-1 input.sk-toggleable__control:checked~label.sk-toggleable__label-arrow:before {content: \"▾\";}#sk-container-id-1 div.sk-estimator input.sk-toggleable__control:checked~label.sk-toggleable__label {background-color: #d4ebff;}#sk-container-id-1 div.sk-label input.sk-toggleable__control:checked~label.sk-toggleable__label {background-color: #d4ebff;}#sk-container-id-1 input.sk-hidden--visually {border: 0;clip: rect(1px 1px 1px 1px);clip: rect(1px, 1px, 1px, 1px);height: 1px;margin: -1px;overflow: hidden;padding: 0;position: absolute;width: 1px;}#sk-container-id-1 div.sk-estimator {font-family: monospace;background-color: #f0f8ff;border: 1px dotted black;border-radius: 0.25em;box-sizing: border-box;margin-bottom: 0.5em;}#sk-container-id-1 div.sk-estimator:hover {background-color: #d4ebff;}#sk-container-id-1 div.sk-parallel-item::after {content: \"\";width: 100%;border-bottom: 1px solid gray;flex-grow: 1;}#sk-container-id-1 div.sk-label:hover label.sk-toggleable__label {background-color: #d4ebff;}#sk-container-id-1 div.sk-serial::before {content: \"\";position: absolute;border-left: 1px solid gray;box-sizing: border-box;top: 0;bottom: 0;left: 50%;z-index: 0;}#sk-container-id-1 div.sk-serial {display: flex;flex-direction: column;align-items: center;background-color: white;padding-right: 0.2em;padding-left: 0.2em;position: relative;}#sk-container-id-1 div.sk-item {position: relative;z-index: 1;}#sk-container-id-1 div.sk-parallel {display: flex;align-items: stretch;justify-content: center;background-color: white;position: relative;}#sk-container-id-1 div.sk-item::before, #sk-container-id-1 div.sk-parallel-item::before {content: \"\";position: absolute;border-left: 1px solid gray;box-sizing: border-box;top: 0;bottom: 0;left: 50%;z-index: -1;}#sk-container-id-1 div.sk-parallel-item {display: flex;flex-direction: column;z-index: 1;position: relative;background-color: white;}#sk-container-id-1 div.sk-parallel-item:first-child::after {align-self: flex-end;width: 50%;}#sk-container-id-1 div.sk-parallel-item:last-child::after {align-self: flex-start;width: 50%;}#sk-container-id-1 div.sk-parallel-item:only-child::after {width: 0;}#sk-container-id-1 div.sk-dashed-wrapped {border: 1px dashed gray;margin: 0 0.4em 0.5em 0.4em;box-sizing: border-box;padding-bottom: 0.4em;background-color: white;}#sk-container-id-1 div.sk-label label {font-family: monospace;font-weight: bold;display: inline-block;line-height: 1.2em;}#sk-container-id-1 div.sk-label-container {text-align: center;}#sk-container-id-1 div.sk-container {/* jupyter's `normalize.less` sets `[hidden] { display: none; }` but bootstrap.min.css set `[hidden] { display: none !important; }` so we also need the `!important` here to be able to override the default hidden behavior on the sphinx rendered scikit-learn.org. See: https://github.com/scikit-learn/scikit-learn/issues/21755 */display: inline-block !important;position: relative;}#sk-container-id-1 div.sk-text-repr-fallback {display: none;}</style><div id=\"sk-container-id-1\" class=\"sk-top-container\"><div class=\"sk-text-repr-fallback\"><pre>RandomForestClassifier(max_depth=7, n_estimators=50, random_state=42)</pre><b>In a Jupyter environment, please rerun this cell to show the HTML representation or trust the notebook. <br />On GitHub, the HTML representation is unable to render, please try loading this page with nbviewer.org.</b></div><div class=\"sk-container\" hidden><div class=\"sk-item\"><div class=\"sk-estimator sk-toggleable\"><input class=\"sk-toggleable__control sk-hidden--visually\" id=\"sk-estimator-id-1\" type=\"checkbox\" checked><label for=\"sk-estimator-id-1\" class=\"sk-toggleable__label sk-toggleable__label-arrow\">RandomForestClassifier</label><div class=\"sk-toggleable__content\"><pre>RandomForestClassifier(max_depth=7, n_estimators=50, random_state=42)</pre></div></div></div></div></div>"
            ]
          },
          "metadata": {},
          "execution_count": 9
        }
      ]
    },
    {
      "cell_type": "code",
      "source": [
        "# This gets the accuracy for the training data\n",
        "rf_x_train = rf_classifier.predict(X_train)\n",
        "rf_accuracy_train = accuracy_score(y_train, rf_x_train)\n",
        "\n",
        "rf_accuracy_train"
      ],
      "metadata": {
        "colab": {
          "base_uri": "https://localhost:8080/"
        },
        "id": "YUnCXIkqWOo-",
        "outputId": "e1344e68-8f74-4f9a-db56-3724d27f551c"
      },
      "execution_count": 10,
      "outputs": [
        {
          "output_type": "execute_result",
          "data": {
            "text/plain": [
              "0.8862359550561798"
            ]
          },
          "metadata": {},
          "execution_count": 10
        }
      ]
    },
    {
      "cell_type": "code",
      "source": [
        "# This gets the accuracy for the test data\n",
        "rf_x_test = rf_classifier.predict(X_test)\n",
        "rf_accuracy_test = accuracy_score(y_test, rf_x_test)\n",
        "\n",
        "rf_accuracy_test"
      ],
      "metadata": {
        "colab": {
          "base_uri": "https://localhost:8080/"
        },
        "id": "B5z1cjN-WOmd",
        "outputId": "b8c53d20-e461-4a3c-c2b7-81b665b322f6"
      },
      "execution_count": 11,
      "outputs": [
        {
          "output_type": "execute_result",
          "data": {
            "text/plain": [
              "0.8212290502793296"
            ]
          },
          "metadata": {},
          "execution_count": 11
        }
      ]
    },
    {
      "cell_type": "markdown",
      "source": [
        "#### Getting predictions"
      ],
      "metadata": {
        "id": "cnGMbgo8YZwN"
      }
    },
    {
      "cell_type": "code",
      "source": [
        "# This loads the dataset\n",
        "df_rf_pred = pd.read_csv('test.csv')"
      ],
      "metadata": {
        "id": "kpNWQSFcWOjw"
      },
      "execution_count": 12,
      "outputs": []
    },
    {
      "cell_type": "code",
      "source": [
        "# This fills the nan values in the age column with the mean\n",
        "df_rf_pred['Age'].fillna(mean_age, inplace=True)"
      ],
      "metadata": {
        "id": "kgrFvEAgWOhK"
      },
      "execution_count": 13,
      "outputs": []
    },
    {
      "cell_type": "code",
      "source": [
        "# This fills the nan values in the fare column with zeros\n",
        "df_rf_pred['Fare'].fillna(0, inplace=True)"
      ],
      "metadata": {
        "id": "r5QfE7NIWOeg"
      },
      "execution_count": 14,
      "outputs": []
    },
    {
      "cell_type": "code",
      "source": [
        "# This creates the relatives column\n",
        "df_rf_pred['Relatives'] = df_rf_pred['SibSp'] + df_rf_pred['Parch']"
      ],
      "metadata": {
        "id": "j1hh64_fWOcN"
      },
      "execution_count": 15,
      "outputs": []
    },
    {
      "cell_type": "code",
      "source": [
        "# This creates the norm_fare column\n",
        "df_rf_pred['Norm_fare'] = df_rf_pred.apply(lambda row: row['Fare'] / row['Relatives'] if row['Relatives'] != 0 else row['Fare'], axis=1)"
      ],
      "metadata": {
        "id": "tEzJrZcZWOZ-"
      },
      "execution_count": 16,
      "outputs": []
    },
    {
      "cell_type": "code",
      "source": [
        "# This changes the sex column into ones and zeros\n",
        "df_rf_pred['Sex'] = le.fit_transform(df_rf_pred['Sex'])"
      ],
      "metadata": {
        "id": "iGnRDWFJWOXO"
      },
      "execution_count": 17,
      "outputs": []
    },
    {
      "cell_type": "code",
      "source": [
        "#This calculates the predictions and their probabilities\n",
        "rf_predictions = rf_classifier.predict(df_rf_pred[['Pclass', 'Sex', 'Age', 'Norm_fare']])\n",
        "rf_probab = rf_classifier.predict_proba(df_rf_pred[['Pclass', 'Sex', 'Age', 'Norm_fare']])"
      ],
      "metadata": {
        "id": "Egt_LFh0WOU3"
      },
      "execution_count": 18,
      "outputs": []
    },
    {
      "cell_type": "code",
      "source": [
        "# This creates a df with the passengerid and its predicted fate\n",
        "titanic_rf = pd.DataFrame()\n",
        "titanic_rf['PassengerId'] = df_rf_pred['PassengerId']\n",
        "titanic_rf['Survived'] = rf_predictions"
      ],
      "metadata": {
        "id": "Blcx8jfYWOSW"
      },
      "execution_count": 19,
      "outputs": []
    },
    {
      "cell_type": "code",
      "source": [
        "# This saves the resulting df as a csv file\n",
        "titanic_rf.to_csv('titanic_rf.csv', index=False)"
      ],
      "metadata": {
        "id": "r2k_WVA8WOPl"
      },
      "execution_count": 20,
      "outputs": []
    },
    {
      "cell_type": "markdown",
      "source": [
        "## Support vector machine"
      ],
      "metadata": {
        "id": "Ma3GmQ3glw98"
      }
    },
    {
      "cell_type": "markdown",
      "source": [
        "#### Preporcessing"
      ],
      "metadata": {
        "id": "U_gfs0scnnZE"
      }
    },
    {
      "cell_type": "code",
      "source": [
        "# Since the feature architecture for this model is slightly different, I will reload the dataset as df_x\n",
        "df_x = pd.read_csv('train.csv')"
      ],
      "metadata": {
        "id": "CBqnnuXaWOMr"
      },
      "execution_count": 21,
      "outputs": []
    },
    {
      "cell_type": "code",
      "source": [
        "# This changes the cabin into zeros and ones depending on whether the passenger has a cabin\n",
        "df_x['Cabin'] = df_x['Cabin'].apply(lambda x: 1 if not pd.isna(x) else x)\n",
        "df_x['Cabin'].fillna(0, inplace=True)"
      ],
      "metadata": {
        "id": "YtVOP9eAWOIo"
      },
      "execution_count": 22,
      "outputs": []
    },
    {
      "cell_type": "code",
      "source": [
        "# This changes to zeros and ones the Sex and Embarked columns\n",
        "df_x['Sex'] = le.fit_transform(df_x['Sex'])\n",
        "df_x['Embarked'] = le.fit_transform(df_x['Embarked'])"
      ],
      "metadata": {
        "id": "c8D59JpKWOAz"
      },
      "execution_count": 23,
      "outputs": []
    },
    {
      "cell_type": "code",
      "source": [
        "# This calculates the number of relatives on board\n",
        "df_x['Relatives'] = df_x['SibSp'] + df_x['Parch']"
      ],
      "metadata": {
        "id": "pm54iLUCm2Ok"
      },
      "execution_count": 24,
      "outputs": []
    },
    {
      "cell_type": "code",
      "source": [
        "# This gets the normalized fare by the number of relatives on board\n",
        "df_x['Norm_fare'] = df_x.apply(lambda row: row['Fare'] / row['Relatives'] if row['Relatives'] != 0 else row['Fare'], axis=1)"
      ],
      "metadata": {
        "id": "NdZYbdqgIpU5"
      },
      "execution_count": 25,
      "outputs": []
    },
    {
      "cell_type": "code",
      "source": [
        "# This fills nans in the Age column with the median age (not the mean as before)\n",
        "median_age = df_x['Age'].median()\n",
        "df_x['Age'].fillna(median_age, inplace=True)"
      ],
      "metadata": {
        "id": "voWDCdkBIrSB"
      },
      "execution_count": 26,
      "outputs": []
    },
    {
      "cell_type": "code",
      "source": [
        "# Now we split the dataset\n",
        "X_train, X_test, y_train, y_test = train_test_split(df_x[['Pclass',\n",
        "                                                          'Sex',\n",
        "                                                          'Age',\n",
        "                                                          'SibSp',\n",
        "                                                          'Parch',\n",
        "                                                          'Relatives',\n",
        "                                                          'Cabin',\n",
        "                                                          'Norm_fare',\n",
        "                                                          'Embarked']],\n",
        "                                                    df_x['Survived'],\n",
        "                                                    test_size=0.2,\n",
        "                                                    random_state=42)"
      ],
      "metadata": {
        "id": "psWoJnOwI1_y"
      },
      "execution_count": 27,
      "outputs": []
    },
    {
      "cell_type": "code",
      "source": [
        "# I'll select the same features for the predictions dataset\n",
        "df_y = pd.read_csv('test.csv')\n",
        "\n",
        "# This introduces a dummy fare value for nans\n",
        "df_y['Fare'].fillna(0, inplace=True)\n",
        "\n",
        "# This changes the cabin into zeros and ones depending on whether the passenger has a cabin\n",
        "df_y['Cabin'] = df_y['Cabin'].apply(lambda x: 1 if not pd.isna(x) else x)\n",
        "df_y['Cabin'].fillna(0, inplace=True)\n",
        "\n",
        "# This changes to zeros and ones the Sex and Embarked columns\n",
        "df_y['Sex'] = le.fit_transform(df_y['Sex'])\n",
        "df_y['Embarked'] = le.fit_transform(df_y['Embarked'])\n",
        "\n",
        "# This calculates the number of relatives on board\n",
        "df_y['Relatives'] = df_y['SibSp'] + df_y['Parch']\n",
        "\n",
        "# This gets the normalized fare by the number of relatives on board\n",
        "df_y['Norm_fare'] = df_y.apply(lambda row: row['Fare'] / row['Relatives'] if row['Relatives'] != 0 else row['Fare'], axis=1)\n",
        "\n",
        "# This fills nans in the Age column with the median age (not the mean as before)\n",
        "df_y['Age'].fillna(median_age, inplace=True)"
      ],
      "metadata": {
        "id": "-xBFgQIzAowT"
      },
      "execution_count": 28,
      "outputs": []
    },
    {
      "cell_type": "code",
      "source": [
        "# This combines both dfs to fit the scaler\n",
        "both_dfs = pd.concat([df_x, df_y], ignore_index=True)"
      ],
      "metadata": {
        "id": "NGTMA8aFCApR"
      },
      "execution_count": 29,
      "outputs": []
    },
    {
      "cell_type": "code",
      "source": [
        "# This standarizes the features\n",
        "scaler = StandardScaler()\n",
        "scaler.fit(both_dfs[['Pclass', 'Sex', 'Age', 'SibSp', 'Parch', 'Relatives', 'Cabin', 'Norm_fare', 'Embarked']])\n",
        "X_train_st = scaler.transform(X_train)\n",
        "X_test_st = scaler.transform(X_test)"
      ],
      "metadata": {
        "id": "_neQjCdYI3q3"
      },
      "execution_count": 30,
      "outputs": []
    },
    {
      "cell_type": "markdown",
      "source": [
        "#### Training the model"
      ],
      "metadata": {
        "id": "qRN-_kqFtd_p"
      }
    },
    {
      "cell_type": "code",
      "source": [
        "# This creates an instance of a SVC\n",
        "svm_model = SVC(kernel='rbf', C=1, probability=True)\n"
      ],
      "metadata": {
        "id": "obxnv_33tPEe"
      },
      "execution_count": 31,
      "outputs": []
    },
    {
      "cell_type": "code",
      "source": [
        "svm_model.fit(X_train_st, y_train)"
      ],
      "metadata": {
        "id": "chmJEqRztO8j",
        "colab": {
          "base_uri": "https://localhost:8080/",
          "height": 74
        },
        "outputId": "93fae18e-ab24-4f43-a82a-52fa51b0da81"
      },
      "execution_count": 32,
      "outputs": [
        {
          "output_type": "execute_result",
          "data": {
            "text/plain": [
              "SVC(C=1, probability=True)"
            ],
            "text/html": [
              "<style>#sk-container-id-2 {color: black;background-color: white;}#sk-container-id-2 pre{padding: 0;}#sk-container-id-2 div.sk-toggleable {background-color: white;}#sk-container-id-2 label.sk-toggleable__label {cursor: pointer;display: block;width: 100%;margin-bottom: 0;padding: 0.3em;box-sizing: border-box;text-align: center;}#sk-container-id-2 label.sk-toggleable__label-arrow:before {content: \"▸\";float: left;margin-right: 0.25em;color: #696969;}#sk-container-id-2 label.sk-toggleable__label-arrow:hover:before {color: black;}#sk-container-id-2 div.sk-estimator:hover label.sk-toggleable__label-arrow:before {color: black;}#sk-container-id-2 div.sk-toggleable__content {max-height: 0;max-width: 0;overflow: hidden;text-align: left;background-color: #f0f8ff;}#sk-container-id-2 div.sk-toggleable__content pre {margin: 0.2em;color: black;border-radius: 0.25em;background-color: #f0f8ff;}#sk-container-id-2 input.sk-toggleable__control:checked~div.sk-toggleable__content {max-height: 200px;max-width: 100%;overflow: auto;}#sk-container-id-2 input.sk-toggleable__control:checked~label.sk-toggleable__label-arrow:before {content: \"▾\";}#sk-container-id-2 div.sk-estimator input.sk-toggleable__control:checked~label.sk-toggleable__label {background-color: #d4ebff;}#sk-container-id-2 div.sk-label input.sk-toggleable__control:checked~label.sk-toggleable__label {background-color: #d4ebff;}#sk-container-id-2 input.sk-hidden--visually {border: 0;clip: rect(1px 1px 1px 1px);clip: rect(1px, 1px, 1px, 1px);height: 1px;margin: -1px;overflow: hidden;padding: 0;position: absolute;width: 1px;}#sk-container-id-2 div.sk-estimator {font-family: monospace;background-color: #f0f8ff;border: 1px dotted black;border-radius: 0.25em;box-sizing: border-box;margin-bottom: 0.5em;}#sk-container-id-2 div.sk-estimator:hover {background-color: #d4ebff;}#sk-container-id-2 div.sk-parallel-item::after {content: \"\";width: 100%;border-bottom: 1px solid gray;flex-grow: 1;}#sk-container-id-2 div.sk-label:hover label.sk-toggleable__label {background-color: #d4ebff;}#sk-container-id-2 div.sk-serial::before {content: \"\";position: absolute;border-left: 1px solid gray;box-sizing: border-box;top: 0;bottom: 0;left: 50%;z-index: 0;}#sk-container-id-2 div.sk-serial {display: flex;flex-direction: column;align-items: center;background-color: white;padding-right: 0.2em;padding-left: 0.2em;position: relative;}#sk-container-id-2 div.sk-item {position: relative;z-index: 1;}#sk-container-id-2 div.sk-parallel {display: flex;align-items: stretch;justify-content: center;background-color: white;position: relative;}#sk-container-id-2 div.sk-item::before, #sk-container-id-2 div.sk-parallel-item::before {content: \"\";position: absolute;border-left: 1px solid gray;box-sizing: border-box;top: 0;bottom: 0;left: 50%;z-index: -1;}#sk-container-id-2 div.sk-parallel-item {display: flex;flex-direction: column;z-index: 1;position: relative;background-color: white;}#sk-container-id-2 div.sk-parallel-item:first-child::after {align-self: flex-end;width: 50%;}#sk-container-id-2 div.sk-parallel-item:last-child::after {align-self: flex-start;width: 50%;}#sk-container-id-2 div.sk-parallel-item:only-child::after {width: 0;}#sk-container-id-2 div.sk-dashed-wrapped {border: 1px dashed gray;margin: 0 0.4em 0.5em 0.4em;box-sizing: border-box;padding-bottom: 0.4em;background-color: white;}#sk-container-id-2 div.sk-label label {font-family: monospace;font-weight: bold;display: inline-block;line-height: 1.2em;}#sk-container-id-2 div.sk-label-container {text-align: center;}#sk-container-id-2 div.sk-container {/* jupyter's `normalize.less` sets `[hidden] { display: none; }` but bootstrap.min.css set `[hidden] { display: none !important; }` so we also need the `!important` here to be able to override the default hidden behavior on the sphinx rendered scikit-learn.org. See: https://github.com/scikit-learn/scikit-learn/issues/21755 */display: inline-block !important;position: relative;}#sk-container-id-2 div.sk-text-repr-fallback {display: none;}</style><div id=\"sk-container-id-2\" class=\"sk-top-container\"><div class=\"sk-text-repr-fallback\"><pre>SVC(C=1, probability=True)</pre><b>In a Jupyter environment, please rerun this cell to show the HTML representation or trust the notebook. <br />On GitHub, the HTML representation is unable to render, please try loading this page with nbviewer.org.</b></div><div class=\"sk-container\" hidden><div class=\"sk-item\"><div class=\"sk-estimator sk-toggleable\"><input class=\"sk-toggleable__control sk-hidden--visually\" id=\"sk-estimator-id-2\" type=\"checkbox\" checked><label for=\"sk-estimator-id-2\" class=\"sk-toggleable__label sk-toggleable__label-arrow\">SVC</label><div class=\"sk-toggleable__content\"><pre>SVC(C=1, probability=True)</pre></div></div></div></div></div>"
            ]
          },
          "metadata": {},
          "execution_count": 32
        }
      ]
    },
    {
      "cell_type": "code",
      "source": [
        "# This evaluates accuracy on the training set\n",
        "svm_x_train = svm_model.predict(X_train_st)\n",
        "svm_x_train_acc = accuracy_score(y_train, svm_x_train)\n",
        "\n",
        "svm_x_train_acc"
      ],
      "metadata": {
        "id": "7auUDWfQtO44",
        "colab": {
          "base_uri": "https://localhost:8080/"
        },
        "outputId": "7b0bbdbe-3e35-459b-a80b-5f30da2dbebd"
      },
      "execution_count": 33,
      "outputs": [
        {
          "output_type": "execute_result",
          "data": {
            "text/plain": [
              "0.8398876404494382"
            ]
          },
          "metadata": {},
          "execution_count": 33
        }
      ]
    },
    {
      "cell_type": "code",
      "source": [
        "# This evaluates accuracy on the test set\n",
        "svm_x_test = svm_model.predict(X_test_st)\n",
        "svm_x_test_acc = accuracy_score(y_test, svm_x_test)\n",
        "\n",
        "svm_x_test_acc"
      ],
      "metadata": {
        "id": "DnH-90BatO1u",
        "colab": {
          "base_uri": "https://localhost:8080/"
        },
        "outputId": "b2ae52fd-2093-4314-b7d1-1f1eb76b8d62"
      },
      "execution_count": 34,
      "outputs": [
        {
          "output_type": "execute_result",
          "data": {
            "text/plain": [
              "0.8156424581005587"
            ]
          },
          "metadata": {},
          "execution_count": 34
        }
      ]
    },
    {
      "cell_type": "markdown",
      "source": [
        "#### Get predictions"
      ],
      "metadata": {
        "id": "CnRL75jDEa8l"
      }
    },
    {
      "cell_type": "code",
      "source": [
        "df_y_st = scaler.transform(df_y[['Pclass', 'Sex', 'Age', 'SibSp', 'Parch', 'Relatives', 'Cabin', 'Norm_fare', 'Embarked']])"
      ],
      "metadata": {
        "id": "MVXPX_z3GNAw"
      },
      "execution_count": 35,
      "outputs": []
    },
    {
      "cell_type": "code",
      "source": [
        "# This gets the predictions and the probabilities\n",
        "svm_predictions = svm_model.predict(df_y_st)\n",
        "svm_probab = svm_model.predict_proba(df_y_st)"
      ],
      "metadata": {
        "id": "RV3udFlzJNLA"
      },
      "execution_count": 36,
      "outputs": []
    },
    {
      "cell_type": "code",
      "source": [
        "# This creates a df with the passengerid and its predicted fate\n",
        "titanic_svm = pd.DataFrame()\n",
        "titanic_svm['PassengerId'] = df_y['PassengerId']\n",
        "titanic_svm['Survived'] = svm_predictions\n"
      ],
      "metadata": {
        "id": "igCGPLIAEaTj"
      },
      "execution_count": 37,
      "outputs": []
    },
    {
      "cell_type": "code",
      "source": [
        "titanic_svm.to_csv('titanic_svm.csv', index=False)"
      ],
      "metadata": {
        "id": "GEAaj8wCEaQN"
      },
      "execution_count": 38,
      "outputs": []
    },
    {
      "cell_type": "markdown",
      "source": [
        "## Neural network (multilayer perceptron)\n",
        "\n",
        "This is basically the training of the neural network. All data is shared with the svm model."
      ],
      "metadata": {
        "id": "X8DJaMBkHW4m"
      }
    },
    {
      "cell_type": "code",
      "source": [
        "# This instantiates a sequential model in Keras\n",
        "model = Sequential()\n",
        "model.add(Dense(64, activation='relu', input_dim=X_train_st.shape[1]))\n",
        "model.add(Dense(32, activation='relu'))\n",
        "model.add(Dense(1, activation='sigmoid'))\n"
      ],
      "metadata": {
        "id": "kqrsfngNJS9l"
      },
      "execution_count": 39,
      "outputs": []
    },
    {
      "cell_type": "code",
      "source": [
        "model.summary()"
      ],
      "metadata": {
        "colab": {
          "base_uri": "https://localhost:8080/"
        },
        "id": "2RVNyzd3Ju7X",
        "outputId": "4e6eb43c-2f07-495d-fcba-8e11cdde4375"
      },
      "execution_count": 40,
      "outputs": [
        {
          "output_type": "stream",
          "name": "stdout",
          "text": [
            "Model: \"sequential\"\n",
            "_________________________________________________________________\n",
            " Layer (type)                Output Shape              Param #   \n",
            "=================================================================\n",
            " dense (Dense)               (None, 64)                640       \n",
            "                                                                 \n",
            " dense_1 (Dense)             (None, 32)                2080      \n",
            "                                                                 \n",
            " dense_2 (Dense)             (None, 1)                 33        \n",
            "                                                                 \n",
            "=================================================================\n",
            "Total params: 2753 (10.75 KB)\n",
            "Trainable params: 2753 (10.75 KB)\n",
            "Non-trainable params: 0 (0.00 Byte)\n",
            "_________________________________________________________________\n"
          ]
        }
      ]
    },
    {
      "cell_type": "code",
      "source": [
        "# This compiles the model with accuracy metrics\n",
        "model.compile(optimizer='adam', loss='binary_crossentropy', metrics=['accuracy'])"
      ],
      "metadata": {
        "id": "5SMIzGL-Jxt2"
      },
      "execution_count": 41,
      "outputs": []
    },
    {
      "cell_type": "code",
      "source": [
        "# Fitting the model\n",
        "model.fit(X_train_st, y_train, epochs=10, validation_split=0.1, verbose=2)"
      ],
      "metadata": {
        "colab": {
          "base_uri": "https://localhost:8080/"
        },
        "id": "XQMQUL7GJ3NT",
        "outputId": "5235bacd-6c4e-49b6-bdff-081eb6aa2e25"
      },
      "execution_count": 42,
      "outputs": [
        {
          "output_type": "stream",
          "name": "stdout",
          "text": [
            "Epoch 1/10\n",
            "20/20 - 3s - loss: 0.6226 - accuracy: 0.6938 - val_loss: 0.5214 - val_accuracy: 0.8194 - 3s/epoch - 126ms/step\n",
            "Epoch 2/10\n",
            "20/20 - 0s - loss: 0.5306 - accuracy: 0.7734 - val_loss: 0.4243 - val_accuracy: 0.8333 - 177ms/epoch - 9ms/step\n",
            "Epoch 3/10\n",
            "20/20 - 0s - loss: 0.4848 - accuracy: 0.7953 - val_loss: 0.3684 - val_accuracy: 0.8472 - 254ms/epoch - 13ms/step\n",
            "Epoch 4/10\n",
            "20/20 - 0s - loss: 0.4616 - accuracy: 0.7969 - val_loss: 0.3358 - val_accuracy: 0.8472 - 180ms/epoch - 9ms/step\n",
            "Epoch 5/10\n",
            "20/20 - 0s - loss: 0.4475 - accuracy: 0.8062 - val_loss: 0.3230 - val_accuracy: 0.8611 - 130ms/epoch - 6ms/step\n",
            "Epoch 6/10\n",
            "20/20 - 0s - loss: 0.4381 - accuracy: 0.8141 - val_loss: 0.3155 - val_accuracy: 0.8750 - 358ms/epoch - 18ms/step\n",
            "Epoch 7/10\n",
            "20/20 - 0s - loss: 0.4290 - accuracy: 0.8234 - val_loss: 0.3082 - val_accuracy: 0.8889 - 161ms/epoch - 8ms/step\n",
            "Epoch 8/10\n",
            "20/20 - 0s - loss: 0.4236 - accuracy: 0.8219 - val_loss: 0.3006 - val_accuracy: 0.9028 - 228ms/epoch - 11ms/step\n",
            "Epoch 9/10\n",
            "20/20 - 0s - loss: 0.4193 - accuracy: 0.8219 - val_loss: 0.2996 - val_accuracy: 0.8750 - 189ms/epoch - 9ms/step\n",
            "Epoch 10/10\n",
            "20/20 - 0s - loss: 0.4135 - accuracy: 0.8328 - val_loss: 0.3002 - val_accuracy: 0.8889 - 199ms/epoch - 10ms/step\n"
          ]
        },
        {
          "output_type": "execute_result",
          "data": {
            "text/plain": [
              "<keras.src.callbacks.History at 0x7c74581818a0>"
            ]
          },
          "metadata": {},
          "execution_count": 42
        }
      ]
    },
    {
      "cell_type": "code",
      "source": [
        "# Accuracy for the test set\n",
        "mlp_test_x = model.predict(X_test_st)\n",
        "mlp_test_x = (mlp_test_x > 0.5).astype(int)\n",
        "mlp_acc = accuracy_score(y_test, mlp_test_x)\n",
        "\n",
        "mlp_acc"
      ],
      "metadata": {
        "colab": {
          "base_uri": "https://localhost:8080/"
        },
        "id": "xBGhOOwbMQIy",
        "outputId": "5fc3169b-5dc3-413d-ce8b-2193f76a374a"
      },
      "execution_count": 43,
      "outputs": [
        {
          "output_type": "stream",
          "name": "stdout",
          "text": [
            "6/6 [==============================] - 1s 15ms/step\n"
          ]
        },
        {
          "output_type": "execute_result",
          "data": {
            "text/plain": [
              "0.8268156424581006"
            ]
          },
          "metadata": {},
          "execution_count": 43
        }
      ]
    },
    {
      "cell_type": "code",
      "source": [
        "# This gets the probabilities for the relevant data\n",
        "mlp_probab = model.predict(df_y_st)\n",
        "mlp_predictions = (mlp_probab > 0.5).astype(int)"
      ],
      "metadata": {
        "colab": {
          "base_uri": "https://localhost:8080/"
        },
        "id": "rfQPbtxeLMwq",
        "outputId": "9e10c12b-919a-466f-a437-bed872e8a0e4"
      },
      "execution_count": 44,
      "outputs": [
        {
          "output_type": "stream",
          "name": "stdout",
          "text": [
            "14/14 [==============================] - 0s 6ms/step\n"
          ]
        }
      ]
    },
    {
      "cell_type": "code",
      "source": [
        "# This creates a df with the required data\n",
        "titanic_mlp = pd.DataFrame()\n",
        "titanic_mlp['PassengerId'] = df_y['PassengerId']\n",
        "titanic_mlp['Survived'] = mlp_predictions"
      ],
      "metadata": {
        "id": "itJR7n2YLhK_"
      },
      "execution_count": 45,
      "outputs": []
    },
    {
      "cell_type": "code",
      "source": [
        "# This saves the df to a csv file\n",
        "titanic_mlp.to_csv('titanic_mlp.csv', index=False)"
      ],
      "metadata": {
        "id": "IiyCIVpXLif7"
      },
      "execution_count": 46,
      "outputs": []
    },
    {
      "cell_type": "markdown",
      "source": [
        "## Ensembling the results of the three models"
      ],
      "metadata": {
        "id": "vM8EgsFjKek0"
      }
    },
    {
      "cell_type": "code",
      "source": [
        "rf_prob_reshaped = rf_probab[:, 1].reshape(-1, 1)"
      ],
      "metadata": {
        "id": "q7upX_KtNSz2"
      },
      "execution_count": 47,
      "outputs": []
    },
    {
      "cell_type": "code",
      "source": [
        "svm_prob_reshaped = svm_probab[:, 1].reshape(-1, 1)"
      ],
      "metadata": {
        "id": "gji3ms_JMBdC"
      },
      "execution_count": 48,
      "outputs": []
    },
    {
      "cell_type": "code",
      "source": [
        "combined_props = 1/3 * rf_prob_reshaped + 1/3 * svm_prob_reshaped + 1/3 * mlp_probab"
      ],
      "metadata": {
        "id": "3NdQBLinKqqA"
      },
      "execution_count": 49,
      "outputs": []
    },
    {
      "cell_type": "code",
      "source": [
        "combined_predictions = (combined_props > 0.5).astype(int)"
      ],
      "metadata": {
        "id": "zFKDRwW8KxTE"
      },
      "execution_count": 50,
      "outputs": []
    },
    {
      "cell_type": "code",
      "source": [
        "# This creates a df with the required data\n",
        "titanic_ensemble = pd.DataFrame()\n",
        "titanic_ensemble['PassengerId'] = df_y['PassengerId']\n",
        "titanic_ensemble['Survived'] = combined_predictions"
      ],
      "metadata": {
        "id": "8TBp9OxQK2mE"
      },
      "execution_count": 51,
      "outputs": []
    },
    {
      "cell_type": "code",
      "source": [
        "titanic_ensemble.to_csv('titanic_ensemble.csv', index=False)"
      ],
      "metadata": {
        "id": "XuRjKdQ3OYLT"
      },
      "execution_count": 52,
      "outputs": []
    }
  ]
}