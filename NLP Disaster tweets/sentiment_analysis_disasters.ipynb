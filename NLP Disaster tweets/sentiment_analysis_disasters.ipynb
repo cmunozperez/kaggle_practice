{
  "cells": [
    {
      "cell_type": "markdown",
      "source": [
        "# Natural Language Processing with Disaster Tweets\n",
        "\n",
        "This notebook contains two simple models for sentiment analysis of this Kaggle competition (see [here](https://www.kaggle.com/competitions/nlp-getting-started)).\n",
        "\n",
        "- The first one is a Support Vector Machine trained on word embeddings from spaCy; this vectorization uses the raw tweets as data. This models achieves a F1 score of around 0.81.\n",
        "\n",
        "- The second is a stochastic gradient descent classifier trained with count and tf-idf vectors; in this case, there is some preprocessing: lemmatization, dropping of stopwords and lowercasing. It achieves a F1 score of around 0.8.\n",
        "\n",
        "An averaging ensemble of both models is also included. It achives a F1 score of 0.83."
      ],
      "metadata": {
        "id": "BrDAu9FuPbg0"
      }
    },
    {
      "cell_type": "code",
      "execution_count": 1,
      "metadata": {
        "id": "UvEVUEFIouh7"
      },
      "outputs": [],
      "source": [
        "import pandas as pd\n",
        "\n",
        "import spacy\n",
        "\n",
        "from sklearn.model_selection import cross_val_score\n",
        "from sklearn.svm import SVC\n",
        "from sklearn.metrics import make_scorer, f1_score\n",
        "from sklearn.preprocessing import StandardScaler\n",
        "from sklearn.feature_extraction.text import TfidfVectorizer, CountVectorizer\n",
        "from sklearn.linear_model import SGDClassifier\n",
        "\n",
        "import numpy as np"
      ]
    },
    {
      "cell_type": "code",
      "source": [
        "# This is a scorer for f1\n",
        "f1_score = make_scorer(f1_score, average='binary')"
      ],
      "metadata": {
        "id": "tlv0ZLYozOmL"
      },
      "execution_count": 2,
      "outputs": []
    },
    {
      "cell_type": "markdown",
      "source": [
        "## Brief exploration of the dataset"
      ],
      "metadata": {
        "id": "XOKmCMlDuVXn"
      }
    },
    {
      "cell_type": "code",
      "execution_count": 3,
      "metadata": {
        "id": "BcqXSUOSp4oV"
      },
      "outputs": [],
      "source": [
        "# This loads the train dataset\n",
        "df = pd.read_csv('train.csv')"
      ]
    },
    {
      "cell_type": "code",
      "execution_count": 4,
      "metadata": {
        "colab": {
          "base_uri": "https://localhost:8080/"
        },
        "id": "ywHWSMdqkbCa",
        "outputId": "b6073a58-cbd6-41ba-abfc-f734dbf83641"
      },
      "outputs": [
        {
          "output_type": "execute_result",
          "data": {
            "text/plain": [
              "(7613, 5)"
            ]
          },
          "metadata": {},
          "execution_count": 4
        }
      ],
      "source": [
        "df.shape"
      ]
    },
    {
      "cell_type": "code",
      "execution_count": 5,
      "metadata": {
        "colab": {
          "base_uri": "https://localhost:8080/",
          "height": 363
        },
        "id": "pDrKbEjIqHpL",
        "outputId": "6174ee17-ab7b-4fc3-c9dc-9a40d7f879f1"
      },
      "outputs": [
        {
          "output_type": "execute_result",
          "data": {
            "text/plain": [
              "   id keyword location                                               text  \\\n",
              "0   1     NaN      NaN  Our Deeds are the Reason of this #earthquake M...   \n",
              "1   4     NaN      NaN             Forest fire near La Ronge Sask. Canada   \n",
              "2   5     NaN      NaN  All residents asked to 'shelter in place' are ...   \n",
              "3   6     NaN      NaN  13,000 people receive #wildfires evacuation or...   \n",
              "4   7     NaN      NaN  Just got sent this photo from Ruby #Alaska as ...   \n",
              "5   8     NaN      NaN  #RockyFire Update => California Hwy. 20 closed...   \n",
              "6  10     NaN      NaN  #flood #disaster Heavy rain causes flash flood...   \n",
              "7  13     NaN      NaN  I'm on top of the hill and I can see a fire in...   \n",
              "8  14     NaN      NaN  There's an emergency evacuation happening now ...   \n",
              "9  15     NaN      NaN  I'm afraid that the tornado is coming to our a...   \n",
              "\n",
              "   target  \n",
              "0       1  \n",
              "1       1  \n",
              "2       1  \n",
              "3       1  \n",
              "4       1  \n",
              "5       1  \n",
              "6       1  \n",
              "7       1  \n",
              "8       1  \n",
              "9       1  "
            ],
            "text/html": [
              "\n",
              "  <div id=\"df-b2d5721f-06aa-4898-9fb5-137d8148d11e\" class=\"colab-df-container\">\n",
              "    <div>\n",
              "<style scoped>\n",
              "    .dataframe tbody tr th:only-of-type {\n",
              "        vertical-align: middle;\n",
              "    }\n",
              "\n",
              "    .dataframe tbody tr th {\n",
              "        vertical-align: top;\n",
              "    }\n",
              "\n",
              "    .dataframe thead th {\n",
              "        text-align: right;\n",
              "    }\n",
              "</style>\n",
              "<table border=\"1\" class=\"dataframe\">\n",
              "  <thead>\n",
              "    <tr style=\"text-align: right;\">\n",
              "      <th></th>\n",
              "      <th>id</th>\n",
              "      <th>keyword</th>\n",
              "      <th>location</th>\n",
              "      <th>text</th>\n",
              "      <th>target</th>\n",
              "    </tr>\n",
              "  </thead>\n",
              "  <tbody>\n",
              "    <tr>\n",
              "      <th>0</th>\n",
              "      <td>1</td>\n",
              "      <td>NaN</td>\n",
              "      <td>NaN</td>\n",
              "      <td>Our Deeds are the Reason of this #earthquake M...</td>\n",
              "      <td>1</td>\n",
              "    </tr>\n",
              "    <tr>\n",
              "      <th>1</th>\n",
              "      <td>4</td>\n",
              "      <td>NaN</td>\n",
              "      <td>NaN</td>\n",
              "      <td>Forest fire near La Ronge Sask. Canada</td>\n",
              "      <td>1</td>\n",
              "    </tr>\n",
              "    <tr>\n",
              "      <th>2</th>\n",
              "      <td>5</td>\n",
              "      <td>NaN</td>\n",
              "      <td>NaN</td>\n",
              "      <td>All residents asked to 'shelter in place' are ...</td>\n",
              "      <td>1</td>\n",
              "    </tr>\n",
              "    <tr>\n",
              "      <th>3</th>\n",
              "      <td>6</td>\n",
              "      <td>NaN</td>\n",
              "      <td>NaN</td>\n",
              "      <td>13,000 people receive #wildfires evacuation or...</td>\n",
              "      <td>1</td>\n",
              "    </tr>\n",
              "    <tr>\n",
              "      <th>4</th>\n",
              "      <td>7</td>\n",
              "      <td>NaN</td>\n",
              "      <td>NaN</td>\n",
              "      <td>Just got sent this photo from Ruby #Alaska as ...</td>\n",
              "      <td>1</td>\n",
              "    </tr>\n",
              "    <tr>\n",
              "      <th>5</th>\n",
              "      <td>8</td>\n",
              "      <td>NaN</td>\n",
              "      <td>NaN</td>\n",
              "      <td>#RockyFire Update =&gt; California Hwy. 20 closed...</td>\n",
              "      <td>1</td>\n",
              "    </tr>\n",
              "    <tr>\n",
              "      <th>6</th>\n",
              "      <td>10</td>\n",
              "      <td>NaN</td>\n",
              "      <td>NaN</td>\n",
              "      <td>#flood #disaster Heavy rain causes flash flood...</td>\n",
              "      <td>1</td>\n",
              "    </tr>\n",
              "    <tr>\n",
              "      <th>7</th>\n",
              "      <td>13</td>\n",
              "      <td>NaN</td>\n",
              "      <td>NaN</td>\n",
              "      <td>I'm on top of the hill and I can see a fire in...</td>\n",
              "      <td>1</td>\n",
              "    </tr>\n",
              "    <tr>\n",
              "      <th>8</th>\n",
              "      <td>14</td>\n",
              "      <td>NaN</td>\n",
              "      <td>NaN</td>\n",
              "      <td>There's an emergency evacuation happening now ...</td>\n",
              "      <td>1</td>\n",
              "    </tr>\n",
              "    <tr>\n",
              "      <th>9</th>\n",
              "      <td>15</td>\n",
              "      <td>NaN</td>\n",
              "      <td>NaN</td>\n",
              "      <td>I'm afraid that the tornado is coming to our a...</td>\n",
              "      <td>1</td>\n",
              "    </tr>\n",
              "  </tbody>\n",
              "</table>\n",
              "</div>\n",
              "    <div class=\"colab-df-buttons\">\n",
              "\n",
              "  <div class=\"colab-df-container\">\n",
              "    <button class=\"colab-df-convert\" onclick=\"convertToInteractive('df-b2d5721f-06aa-4898-9fb5-137d8148d11e')\"\n",
              "            title=\"Convert this dataframe to an interactive table.\"\n",
              "            style=\"display:none;\">\n",
              "\n",
              "  <svg xmlns=\"http://www.w3.org/2000/svg\" height=\"24px\" viewBox=\"0 -960 960 960\">\n",
              "    <path d=\"M120-120v-720h720v720H120Zm60-500h600v-160H180v160Zm220 220h160v-160H400v160Zm0 220h160v-160H400v160ZM180-400h160v-160H180v160Zm440 0h160v-160H620v160ZM180-180h160v-160H180v160Zm440 0h160v-160H620v160Z\"/>\n",
              "  </svg>\n",
              "    </button>\n",
              "\n",
              "  <style>\n",
              "    .colab-df-container {\n",
              "      display:flex;\n",
              "      gap: 12px;\n",
              "    }\n",
              "\n",
              "    .colab-df-convert {\n",
              "      background-color: #E8F0FE;\n",
              "      border: none;\n",
              "      border-radius: 50%;\n",
              "      cursor: pointer;\n",
              "      display: none;\n",
              "      fill: #1967D2;\n",
              "      height: 32px;\n",
              "      padding: 0 0 0 0;\n",
              "      width: 32px;\n",
              "    }\n",
              "\n",
              "    .colab-df-convert:hover {\n",
              "      background-color: #E2EBFA;\n",
              "      box-shadow: 0px 1px 2px rgba(60, 64, 67, 0.3), 0px 1px 3px 1px rgba(60, 64, 67, 0.15);\n",
              "      fill: #174EA6;\n",
              "    }\n",
              "\n",
              "    .colab-df-buttons div {\n",
              "      margin-bottom: 4px;\n",
              "    }\n",
              "\n",
              "    [theme=dark] .colab-df-convert {\n",
              "      background-color: #3B4455;\n",
              "      fill: #D2E3FC;\n",
              "    }\n",
              "\n",
              "    [theme=dark] .colab-df-convert:hover {\n",
              "      background-color: #434B5C;\n",
              "      box-shadow: 0px 1px 3px 1px rgba(0, 0, 0, 0.15);\n",
              "      filter: drop-shadow(0px 1px 2px rgba(0, 0, 0, 0.3));\n",
              "      fill: #FFFFFF;\n",
              "    }\n",
              "  </style>\n",
              "\n",
              "    <script>\n",
              "      const buttonEl =\n",
              "        document.querySelector('#df-b2d5721f-06aa-4898-9fb5-137d8148d11e button.colab-df-convert');\n",
              "      buttonEl.style.display =\n",
              "        google.colab.kernel.accessAllowed ? 'block' : 'none';\n",
              "\n",
              "      async function convertToInteractive(key) {\n",
              "        const element = document.querySelector('#df-b2d5721f-06aa-4898-9fb5-137d8148d11e');\n",
              "        const dataTable =\n",
              "          await google.colab.kernel.invokeFunction('convertToInteractive',\n",
              "                                                    [key], {});\n",
              "        if (!dataTable) return;\n",
              "\n",
              "        const docLinkHtml = 'Like what you see? Visit the ' +\n",
              "          '<a target=\"_blank\" href=https://colab.research.google.com/notebooks/data_table.ipynb>data table notebook</a>'\n",
              "          + ' to learn more about interactive tables.';\n",
              "        element.innerHTML = '';\n",
              "        dataTable['output_type'] = 'display_data';\n",
              "        await google.colab.output.renderOutput(dataTable, element);\n",
              "        const docLink = document.createElement('div');\n",
              "        docLink.innerHTML = docLinkHtml;\n",
              "        element.appendChild(docLink);\n",
              "      }\n",
              "    </script>\n",
              "  </div>\n",
              "\n",
              "\n",
              "<div id=\"df-be6c7caf-2bee-458a-9a1e-5fe0eacc65a3\">\n",
              "  <button class=\"colab-df-quickchart\" onclick=\"quickchart('df-be6c7caf-2bee-458a-9a1e-5fe0eacc65a3')\"\n",
              "            title=\"Suggest charts\"\n",
              "            style=\"display:none;\">\n",
              "\n",
              "<svg xmlns=\"http://www.w3.org/2000/svg\" height=\"24px\"viewBox=\"0 0 24 24\"\n",
              "     width=\"24px\">\n",
              "    <g>\n",
              "        <path d=\"M19 3H5c-1.1 0-2 .9-2 2v14c0 1.1.9 2 2 2h14c1.1 0 2-.9 2-2V5c0-1.1-.9-2-2-2zM9 17H7v-7h2v7zm4 0h-2V7h2v10zm4 0h-2v-4h2v4z\"/>\n",
              "    </g>\n",
              "</svg>\n",
              "  </button>\n",
              "\n",
              "<style>\n",
              "  .colab-df-quickchart {\n",
              "      --bg-color: #E8F0FE;\n",
              "      --fill-color: #1967D2;\n",
              "      --hover-bg-color: #E2EBFA;\n",
              "      --hover-fill-color: #174EA6;\n",
              "      --disabled-fill-color: #AAA;\n",
              "      --disabled-bg-color: #DDD;\n",
              "  }\n",
              "\n",
              "  [theme=dark] .colab-df-quickchart {\n",
              "      --bg-color: #3B4455;\n",
              "      --fill-color: #D2E3FC;\n",
              "      --hover-bg-color: #434B5C;\n",
              "      --hover-fill-color: #FFFFFF;\n",
              "      --disabled-bg-color: #3B4455;\n",
              "      --disabled-fill-color: #666;\n",
              "  }\n",
              "\n",
              "  .colab-df-quickchart {\n",
              "    background-color: var(--bg-color);\n",
              "    border: none;\n",
              "    border-radius: 50%;\n",
              "    cursor: pointer;\n",
              "    display: none;\n",
              "    fill: var(--fill-color);\n",
              "    height: 32px;\n",
              "    padding: 0;\n",
              "    width: 32px;\n",
              "  }\n",
              "\n",
              "  .colab-df-quickchart:hover {\n",
              "    background-color: var(--hover-bg-color);\n",
              "    box-shadow: 0 1px 2px rgba(60, 64, 67, 0.3), 0 1px 3px 1px rgba(60, 64, 67, 0.15);\n",
              "    fill: var(--button-hover-fill-color);\n",
              "  }\n",
              "\n",
              "  .colab-df-quickchart-complete:disabled,\n",
              "  .colab-df-quickchart-complete:disabled:hover {\n",
              "    background-color: var(--disabled-bg-color);\n",
              "    fill: var(--disabled-fill-color);\n",
              "    box-shadow: none;\n",
              "  }\n",
              "\n",
              "  .colab-df-spinner {\n",
              "    border: 2px solid var(--fill-color);\n",
              "    border-color: transparent;\n",
              "    border-bottom-color: var(--fill-color);\n",
              "    animation:\n",
              "      spin 1s steps(1) infinite;\n",
              "  }\n",
              "\n",
              "  @keyframes spin {\n",
              "    0% {\n",
              "      border-color: transparent;\n",
              "      border-bottom-color: var(--fill-color);\n",
              "      border-left-color: var(--fill-color);\n",
              "    }\n",
              "    20% {\n",
              "      border-color: transparent;\n",
              "      border-left-color: var(--fill-color);\n",
              "      border-top-color: var(--fill-color);\n",
              "    }\n",
              "    30% {\n",
              "      border-color: transparent;\n",
              "      border-left-color: var(--fill-color);\n",
              "      border-top-color: var(--fill-color);\n",
              "      border-right-color: var(--fill-color);\n",
              "    }\n",
              "    40% {\n",
              "      border-color: transparent;\n",
              "      border-right-color: var(--fill-color);\n",
              "      border-top-color: var(--fill-color);\n",
              "    }\n",
              "    60% {\n",
              "      border-color: transparent;\n",
              "      border-right-color: var(--fill-color);\n",
              "    }\n",
              "    80% {\n",
              "      border-color: transparent;\n",
              "      border-right-color: var(--fill-color);\n",
              "      border-bottom-color: var(--fill-color);\n",
              "    }\n",
              "    90% {\n",
              "      border-color: transparent;\n",
              "      border-bottom-color: var(--fill-color);\n",
              "    }\n",
              "  }\n",
              "</style>\n",
              "\n",
              "  <script>\n",
              "    async function quickchart(key) {\n",
              "      const quickchartButtonEl =\n",
              "        document.querySelector('#' + key + ' button');\n",
              "      quickchartButtonEl.disabled = true;  // To prevent multiple clicks.\n",
              "      quickchartButtonEl.classList.add('colab-df-spinner');\n",
              "      try {\n",
              "        const charts = await google.colab.kernel.invokeFunction(\n",
              "            'suggestCharts', [key], {});\n",
              "      } catch (error) {\n",
              "        console.error('Error during call to suggestCharts:', error);\n",
              "      }\n",
              "      quickchartButtonEl.classList.remove('colab-df-spinner');\n",
              "      quickchartButtonEl.classList.add('colab-df-quickchart-complete');\n",
              "    }\n",
              "    (() => {\n",
              "      let quickchartButtonEl =\n",
              "        document.querySelector('#df-be6c7caf-2bee-458a-9a1e-5fe0eacc65a3 button');\n",
              "      quickchartButtonEl.style.display =\n",
              "        google.colab.kernel.accessAllowed ? 'block' : 'none';\n",
              "    })();\n",
              "  </script>\n",
              "</div>\n",
              "    </div>\n",
              "  </div>\n"
            ]
          },
          "metadata": {},
          "execution_count": 5
        }
      ],
      "source": [
        "df.head(10)"
      ]
    },
    {
      "cell_type": "code",
      "source": [
        "df['target'].value_counts()"
      ],
      "metadata": {
        "colab": {
          "base_uri": "https://localhost:8080/"
        },
        "id": "tuUbfNTKxtRp",
        "outputId": "f3f1f12d-abe4-493b-bdc9-60249eacf08f"
      },
      "execution_count": 6,
      "outputs": [
        {
          "output_type": "execute_result",
          "data": {
            "text/plain": [
              "0    4342\n",
              "1    3271\n",
              "Name: target, dtype: int64"
            ]
          },
          "metadata": {},
          "execution_count": 6
        }
      ]
    },
    {
      "cell_type": "code",
      "source": [
        "# This counts the number of # in the tweets\n",
        "df['text'].str.contains('#').sum()"
      ],
      "metadata": {
        "colab": {
          "base_uri": "https://localhost:8080/"
        },
        "id": "6fqcm_ZD8rVU",
        "outputId": "f52ac708-f019-4403-e3a8-4cc050d29355"
      },
      "execution_count": 7,
      "outputs": [
        {
          "output_type": "execute_result",
          "data": {
            "text/plain": [
              "1761"
            ]
          },
          "metadata": {},
          "execution_count": 7
        }
      ]
    },
    {
      "cell_type": "code",
      "source": [
        "# This counts the number of @\n",
        "df['text'].str.contains('@').sum()"
      ],
      "metadata": {
        "colab": {
          "base_uri": "https://localhost:8080/"
        },
        "id": "GNgxH11sIGK-",
        "outputId": "e13359dc-1eb9-470d-c4a4-edae3f78a3dc"
      },
      "execution_count": 8,
      "outputs": [
        {
          "output_type": "execute_result",
          "data": {
            "text/plain": [
              "2039"
            ]
          },
          "metadata": {},
          "execution_count": 8
        }
      ]
    },
    {
      "cell_type": "code",
      "source": [
        "df['text'].str.contains('http://').sum(), df['text'].str.contains('https://').sum()"
      ],
      "metadata": {
        "colab": {
          "base_uri": "https://localhost:8080/"
        },
        "id": "hSqbXd033mRU",
        "outputId": "30b7a62a-2bbf-42b6-bae7-e58b1f2087f5"
      },
      "execution_count": 9,
      "outputs": [
        {
          "output_type": "execute_result",
          "data": {
            "text/plain": [
              "(3604, 407)"
            ]
          },
          "metadata": {},
          "execution_count": 9
        }
      ]
    },
    {
      "cell_type": "code",
      "execution_count": 10,
      "metadata": {
        "colab": {
          "base_uri": "https://localhost:8080/"
        },
        "id": "QVjdukxUK-tz",
        "outputId": "e1735e21-1105-4e8a-a71b-4efc84348571"
      },
      "outputs": [
        {
          "output_type": "stream",
          "name": "stdout",
          "text": [
            "Column id has 0 NaN values.\n",
            "\n",
            "Column keyword has 61 NaN values.\n",
            "\n",
            "Column location has 2533 NaN values.\n",
            "\n",
            "Column text has 0 NaN values.\n",
            "\n",
            "Column target has 0 NaN values.\n",
            "\n"
          ]
        }
      ],
      "source": [
        "for col in df.columns:\n",
        "    count = pd.isna(df[col]).sum()\n",
        "    print(f'Column {col} has {count} NaN values.')\n",
        "    print()"
      ]
    },
    {
      "cell_type": "code",
      "execution_count": 11,
      "metadata": {
        "id": "cw-0a54xMXWu"
      },
      "outputs": [],
      "source": [
        "df_pred = pd.read_csv('test.csv')"
      ]
    },
    {
      "cell_type": "code",
      "execution_count": 12,
      "metadata": {
        "colab": {
          "base_uri": "https://localhost:8080/",
          "height": 206
        },
        "id": "tT-7dHdqmJf3",
        "outputId": "7fd00cda-e131-42dd-c975-126044be317b"
      },
      "outputs": [
        {
          "output_type": "execute_result",
          "data": {
            "text/plain": [
              "   id keyword location                                               text\n",
              "0   0     NaN      NaN                 Just happened a terrible car crash\n",
              "1   2     NaN      NaN  Heard about #earthquake is different cities, s...\n",
              "2   3     NaN      NaN  there is a forest fire at spot pond, geese are...\n",
              "3   9     NaN      NaN           Apocalypse lighting. #Spokane #wildfires\n",
              "4  11     NaN      NaN      Typhoon Soudelor kills 28 in China and Taiwan"
            ],
            "text/html": [
              "\n",
              "  <div id=\"df-eebc5125-dc24-434d-ae35-365fe84d9640\" class=\"colab-df-container\">\n",
              "    <div>\n",
              "<style scoped>\n",
              "    .dataframe tbody tr th:only-of-type {\n",
              "        vertical-align: middle;\n",
              "    }\n",
              "\n",
              "    .dataframe tbody tr th {\n",
              "        vertical-align: top;\n",
              "    }\n",
              "\n",
              "    .dataframe thead th {\n",
              "        text-align: right;\n",
              "    }\n",
              "</style>\n",
              "<table border=\"1\" class=\"dataframe\">\n",
              "  <thead>\n",
              "    <tr style=\"text-align: right;\">\n",
              "      <th></th>\n",
              "      <th>id</th>\n",
              "      <th>keyword</th>\n",
              "      <th>location</th>\n",
              "      <th>text</th>\n",
              "    </tr>\n",
              "  </thead>\n",
              "  <tbody>\n",
              "    <tr>\n",
              "      <th>0</th>\n",
              "      <td>0</td>\n",
              "      <td>NaN</td>\n",
              "      <td>NaN</td>\n",
              "      <td>Just happened a terrible car crash</td>\n",
              "    </tr>\n",
              "    <tr>\n",
              "      <th>1</th>\n",
              "      <td>2</td>\n",
              "      <td>NaN</td>\n",
              "      <td>NaN</td>\n",
              "      <td>Heard about #earthquake is different cities, s...</td>\n",
              "    </tr>\n",
              "    <tr>\n",
              "      <th>2</th>\n",
              "      <td>3</td>\n",
              "      <td>NaN</td>\n",
              "      <td>NaN</td>\n",
              "      <td>there is a forest fire at spot pond, geese are...</td>\n",
              "    </tr>\n",
              "    <tr>\n",
              "      <th>3</th>\n",
              "      <td>9</td>\n",
              "      <td>NaN</td>\n",
              "      <td>NaN</td>\n",
              "      <td>Apocalypse lighting. #Spokane #wildfires</td>\n",
              "    </tr>\n",
              "    <tr>\n",
              "      <th>4</th>\n",
              "      <td>11</td>\n",
              "      <td>NaN</td>\n",
              "      <td>NaN</td>\n",
              "      <td>Typhoon Soudelor kills 28 in China and Taiwan</td>\n",
              "    </tr>\n",
              "  </tbody>\n",
              "</table>\n",
              "</div>\n",
              "    <div class=\"colab-df-buttons\">\n",
              "\n",
              "  <div class=\"colab-df-container\">\n",
              "    <button class=\"colab-df-convert\" onclick=\"convertToInteractive('df-eebc5125-dc24-434d-ae35-365fe84d9640')\"\n",
              "            title=\"Convert this dataframe to an interactive table.\"\n",
              "            style=\"display:none;\">\n",
              "\n",
              "  <svg xmlns=\"http://www.w3.org/2000/svg\" height=\"24px\" viewBox=\"0 -960 960 960\">\n",
              "    <path d=\"M120-120v-720h720v720H120Zm60-500h600v-160H180v160Zm220 220h160v-160H400v160Zm0 220h160v-160H400v160ZM180-400h160v-160H180v160Zm440 0h160v-160H620v160ZM180-180h160v-160H180v160Zm440 0h160v-160H620v160Z\"/>\n",
              "  </svg>\n",
              "    </button>\n",
              "\n",
              "  <style>\n",
              "    .colab-df-container {\n",
              "      display:flex;\n",
              "      gap: 12px;\n",
              "    }\n",
              "\n",
              "    .colab-df-convert {\n",
              "      background-color: #E8F0FE;\n",
              "      border: none;\n",
              "      border-radius: 50%;\n",
              "      cursor: pointer;\n",
              "      display: none;\n",
              "      fill: #1967D2;\n",
              "      height: 32px;\n",
              "      padding: 0 0 0 0;\n",
              "      width: 32px;\n",
              "    }\n",
              "\n",
              "    .colab-df-convert:hover {\n",
              "      background-color: #E2EBFA;\n",
              "      box-shadow: 0px 1px 2px rgba(60, 64, 67, 0.3), 0px 1px 3px 1px rgba(60, 64, 67, 0.15);\n",
              "      fill: #174EA6;\n",
              "    }\n",
              "\n",
              "    .colab-df-buttons div {\n",
              "      margin-bottom: 4px;\n",
              "    }\n",
              "\n",
              "    [theme=dark] .colab-df-convert {\n",
              "      background-color: #3B4455;\n",
              "      fill: #D2E3FC;\n",
              "    }\n",
              "\n",
              "    [theme=dark] .colab-df-convert:hover {\n",
              "      background-color: #434B5C;\n",
              "      box-shadow: 0px 1px 3px 1px rgba(0, 0, 0, 0.15);\n",
              "      filter: drop-shadow(0px 1px 2px rgba(0, 0, 0, 0.3));\n",
              "      fill: #FFFFFF;\n",
              "    }\n",
              "  </style>\n",
              "\n",
              "    <script>\n",
              "      const buttonEl =\n",
              "        document.querySelector('#df-eebc5125-dc24-434d-ae35-365fe84d9640 button.colab-df-convert');\n",
              "      buttonEl.style.display =\n",
              "        google.colab.kernel.accessAllowed ? 'block' : 'none';\n",
              "\n",
              "      async function convertToInteractive(key) {\n",
              "        const element = document.querySelector('#df-eebc5125-dc24-434d-ae35-365fe84d9640');\n",
              "        const dataTable =\n",
              "          await google.colab.kernel.invokeFunction('convertToInteractive',\n",
              "                                                    [key], {});\n",
              "        if (!dataTable) return;\n",
              "\n",
              "        const docLinkHtml = 'Like what you see? Visit the ' +\n",
              "          '<a target=\"_blank\" href=https://colab.research.google.com/notebooks/data_table.ipynb>data table notebook</a>'\n",
              "          + ' to learn more about interactive tables.';\n",
              "        element.innerHTML = '';\n",
              "        dataTable['output_type'] = 'display_data';\n",
              "        await google.colab.output.renderOutput(dataTable, element);\n",
              "        const docLink = document.createElement('div');\n",
              "        docLink.innerHTML = docLinkHtml;\n",
              "        element.appendChild(docLink);\n",
              "      }\n",
              "    </script>\n",
              "  </div>\n",
              "\n",
              "\n",
              "<div id=\"df-6fad6a0a-9d73-47fe-8337-5d4367ac0aba\">\n",
              "  <button class=\"colab-df-quickchart\" onclick=\"quickchart('df-6fad6a0a-9d73-47fe-8337-5d4367ac0aba')\"\n",
              "            title=\"Suggest charts\"\n",
              "            style=\"display:none;\">\n",
              "\n",
              "<svg xmlns=\"http://www.w3.org/2000/svg\" height=\"24px\"viewBox=\"0 0 24 24\"\n",
              "     width=\"24px\">\n",
              "    <g>\n",
              "        <path d=\"M19 3H5c-1.1 0-2 .9-2 2v14c0 1.1.9 2 2 2h14c1.1 0 2-.9 2-2V5c0-1.1-.9-2-2-2zM9 17H7v-7h2v7zm4 0h-2V7h2v10zm4 0h-2v-4h2v4z\"/>\n",
              "    </g>\n",
              "</svg>\n",
              "  </button>\n",
              "\n",
              "<style>\n",
              "  .colab-df-quickchart {\n",
              "      --bg-color: #E8F0FE;\n",
              "      --fill-color: #1967D2;\n",
              "      --hover-bg-color: #E2EBFA;\n",
              "      --hover-fill-color: #174EA6;\n",
              "      --disabled-fill-color: #AAA;\n",
              "      --disabled-bg-color: #DDD;\n",
              "  }\n",
              "\n",
              "  [theme=dark] .colab-df-quickchart {\n",
              "      --bg-color: #3B4455;\n",
              "      --fill-color: #D2E3FC;\n",
              "      --hover-bg-color: #434B5C;\n",
              "      --hover-fill-color: #FFFFFF;\n",
              "      --disabled-bg-color: #3B4455;\n",
              "      --disabled-fill-color: #666;\n",
              "  }\n",
              "\n",
              "  .colab-df-quickchart {\n",
              "    background-color: var(--bg-color);\n",
              "    border: none;\n",
              "    border-radius: 50%;\n",
              "    cursor: pointer;\n",
              "    display: none;\n",
              "    fill: var(--fill-color);\n",
              "    height: 32px;\n",
              "    padding: 0;\n",
              "    width: 32px;\n",
              "  }\n",
              "\n",
              "  .colab-df-quickchart:hover {\n",
              "    background-color: var(--hover-bg-color);\n",
              "    box-shadow: 0 1px 2px rgba(60, 64, 67, 0.3), 0 1px 3px 1px rgba(60, 64, 67, 0.15);\n",
              "    fill: var(--button-hover-fill-color);\n",
              "  }\n",
              "\n",
              "  .colab-df-quickchart-complete:disabled,\n",
              "  .colab-df-quickchart-complete:disabled:hover {\n",
              "    background-color: var(--disabled-bg-color);\n",
              "    fill: var(--disabled-fill-color);\n",
              "    box-shadow: none;\n",
              "  }\n",
              "\n",
              "  .colab-df-spinner {\n",
              "    border: 2px solid var(--fill-color);\n",
              "    border-color: transparent;\n",
              "    border-bottom-color: var(--fill-color);\n",
              "    animation:\n",
              "      spin 1s steps(1) infinite;\n",
              "  }\n",
              "\n",
              "  @keyframes spin {\n",
              "    0% {\n",
              "      border-color: transparent;\n",
              "      border-bottom-color: var(--fill-color);\n",
              "      border-left-color: var(--fill-color);\n",
              "    }\n",
              "    20% {\n",
              "      border-color: transparent;\n",
              "      border-left-color: var(--fill-color);\n",
              "      border-top-color: var(--fill-color);\n",
              "    }\n",
              "    30% {\n",
              "      border-color: transparent;\n",
              "      border-left-color: var(--fill-color);\n",
              "      border-top-color: var(--fill-color);\n",
              "      border-right-color: var(--fill-color);\n",
              "    }\n",
              "    40% {\n",
              "      border-color: transparent;\n",
              "      border-right-color: var(--fill-color);\n",
              "      border-top-color: var(--fill-color);\n",
              "    }\n",
              "    60% {\n",
              "      border-color: transparent;\n",
              "      border-right-color: var(--fill-color);\n",
              "    }\n",
              "    80% {\n",
              "      border-color: transparent;\n",
              "      border-right-color: var(--fill-color);\n",
              "      border-bottom-color: var(--fill-color);\n",
              "    }\n",
              "    90% {\n",
              "      border-color: transparent;\n",
              "      border-bottom-color: var(--fill-color);\n",
              "    }\n",
              "  }\n",
              "</style>\n",
              "\n",
              "  <script>\n",
              "    async function quickchart(key) {\n",
              "      const quickchartButtonEl =\n",
              "        document.querySelector('#' + key + ' button');\n",
              "      quickchartButtonEl.disabled = true;  // To prevent multiple clicks.\n",
              "      quickchartButtonEl.classList.add('colab-df-spinner');\n",
              "      try {\n",
              "        const charts = await google.colab.kernel.invokeFunction(\n",
              "            'suggestCharts', [key], {});\n",
              "      } catch (error) {\n",
              "        console.error('Error during call to suggestCharts:', error);\n",
              "      }\n",
              "      quickchartButtonEl.classList.remove('colab-df-spinner');\n",
              "      quickchartButtonEl.classList.add('colab-df-quickchart-complete');\n",
              "    }\n",
              "    (() => {\n",
              "      let quickchartButtonEl =\n",
              "        document.querySelector('#df-6fad6a0a-9d73-47fe-8337-5d4367ac0aba button');\n",
              "      quickchartButtonEl.style.display =\n",
              "        google.colab.kernel.accessAllowed ? 'block' : 'none';\n",
              "    })();\n",
              "  </script>\n",
              "</div>\n",
              "    </div>\n",
              "  </div>\n"
            ]
          },
          "metadata": {},
          "execution_count": 12
        }
      ],
      "source": [
        "df_pred.head()"
      ]
    },
    {
      "cell_type": "code",
      "execution_count": 13,
      "metadata": {
        "colab": {
          "base_uri": "https://localhost:8080/"
        },
        "id": "bqseVIRBmLgJ",
        "outputId": "517114aa-f610-449c-e90c-f6103f6e2716"
      },
      "outputs": [
        {
          "output_type": "stream",
          "name": "stdout",
          "text": [
            "Column id has 0 NaN values.\n",
            "\n",
            "Column keyword has 61 NaN values.\n",
            "\n",
            "Column location has 2533 NaN values.\n",
            "\n",
            "Column text has 0 NaN values.\n",
            "\n"
          ]
        }
      ],
      "source": [
        "for col in df_pred.columns:\n",
        "    count = pd.isna(df[col]).sum()\n",
        "    print(f'Column {col} has {count} NaN values.')\n",
        "    print()"
      ]
    },
    {
      "cell_type": "markdown",
      "metadata": {
        "id": "tDeUrmXpk1Pp"
      },
      "source": [
        "## SpaCy word embeddings on raw data + SVM"
      ]
    },
    {
      "cell_type": "code",
      "execution_count": 14,
      "metadata": {
        "colab": {
          "base_uri": "https://localhost:8080/"
        },
        "id": "9Pz7thwRs4mt",
        "outputId": "c4addb2c-1a9d-4c4a-bb36-3da15d81e386"
      },
      "outputs": [
        {
          "output_type": "stream",
          "name": "stdout",
          "text": [
            "\u001b[38;5;2m✔ Download and installation successful\u001b[0m\n",
            "You can now load the package via spacy.load('en_core_web_lg')\n"
          ]
        }
      ],
      "source": [
        "spacy.cli.download(\"en_core_web_lg\")"
      ]
    },
    {
      "cell_type": "code",
      "execution_count": 15,
      "metadata": {
        "id": "ttE7msMOuuWl"
      },
      "outputs": [],
      "source": [
        "nlp = spacy.load('en_core_web_lg')"
      ]
    },
    {
      "cell_type": "code",
      "execution_count": 16,
      "metadata": {
        "id": "ik7QYDLMupfn"
      },
      "outputs": [],
      "source": [
        "X = np.array([nlp(text).vector for text in df['text']])"
      ]
    },
    {
      "cell_type": "code",
      "execution_count": 17,
      "metadata": {
        "id": "WiA32j7ZvXlh"
      },
      "outputs": [],
      "source": [
        "y = df['target'].values"
      ]
    },
    {
      "cell_type": "code",
      "execution_count": 18,
      "metadata": {
        "id": "YIMwuc73qbWj"
      },
      "outputs": [],
      "source": [
        "# SVM model\n",
        "svm_model = SVC(kernel='rbf', C=3.5, probability=True, verbose=1)"
      ]
    },
    {
      "cell_type": "code",
      "execution_count": 19,
      "metadata": {
        "colab": {
          "base_uri": "https://localhost:8080/"
        },
        "id": "TEoefx5r2fSA",
        "outputId": "54d7980c-a4ff-4e58-a1af-b66de3a4b908"
      },
      "outputs": [
        {
          "output_type": "stream",
          "name": "stdout",
          "text": [
            "[LibSVM][LibSVM][LibSVM][LibSVM][LibSVM]Cross-Validation Scores: [0.70424978 0.69521411 0.73633441 0.68793103 0.76595745]\n",
            "\n",
            "Mean Accuracy: 0.72\n",
            "Standard Deviation: 0.03\n"
          ]
        }
      ],
      "source": [
        "# Cross validation\n",
        "cv_scores = cross_val_score(svm_model, X, y, cv=5, scoring=f1_score, verbose=1)\n",
        "\n",
        "print(\"Cross-Validation Scores:\", cv_scores)\n",
        "print()\n",
        "print(\"Mean Accuracy: {:.2f}\".format(cv_scores.mean()))\n",
        "print(\"Standard Deviation: {:.2f}\".format(cv_scores.std()))"
      ]
    },
    {
      "cell_type": "code",
      "execution_count": 20,
      "metadata": {
        "colab": {
          "base_uri": "https://localhost:8080/",
          "height": 91
        },
        "id": "vl4XS7aLqpng",
        "outputId": "e5f7efca-3583-4e00-caab-99872b487ca1"
      },
      "outputs": [
        {
          "output_type": "stream",
          "name": "stdout",
          "text": [
            "[LibSVM]"
          ]
        },
        {
          "output_type": "execute_result",
          "data": {
            "text/plain": [
              "SVC(C=3.5, probability=True, verbose=1)"
            ],
            "text/html": [
              "<style>#sk-container-id-1 {color: black;background-color: white;}#sk-container-id-1 pre{padding: 0;}#sk-container-id-1 div.sk-toggleable {background-color: white;}#sk-container-id-1 label.sk-toggleable__label {cursor: pointer;display: block;width: 100%;margin-bottom: 0;padding: 0.3em;box-sizing: border-box;text-align: center;}#sk-container-id-1 label.sk-toggleable__label-arrow:before {content: \"▸\";float: left;margin-right: 0.25em;color: #696969;}#sk-container-id-1 label.sk-toggleable__label-arrow:hover:before {color: black;}#sk-container-id-1 div.sk-estimator:hover label.sk-toggleable__label-arrow:before {color: black;}#sk-container-id-1 div.sk-toggleable__content {max-height: 0;max-width: 0;overflow: hidden;text-align: left;background-color: #f0f8ff;}#sk-container-id-1 div.sk-toggleable__content pre {margin: 0.2em;color: black;border-radius: 0.25em;background-color: #f0f8ff;}#sk-container-id-1 input.sk-toggleable__control:checked~div.sk-toggleable__content {max-height: 200px;max-width: 100%;overflow: auto;}#sk-container-id-1 input.sk-toggleable__control:checked~label.sk-toggleable__label-arrow:before {content: \"▾\";}#sk-container-id-1 div.sk-estimator input.sk-toggleable__control:checked~label.sk-toggleable__label {background-color: #d4ebff;}#sk-container-id-1 div.sk-label input.sk-toggleable__control:checked~label.sk-toggleable__label {background-color: #d4ebff;}#sk-container-id-1 input.sk-hidden--visually {border: 0;clip: rect(1px 1px 1px 1px);clip: rect(1px, 1px, 1px, 1px);height: 1px;margin: -1px;overflow: hidden;padding: 0;position: absolute;width: 1px;}#sk-container-id-1 div.sk-estimator {font-family: monospace;background-color: #f0f8ff;border: 1px dotted black;border-radius: 0.25em;box-sizing: border-box;margin-bottom: 0.5em;}#sk-container-id-1 div.sk-estimator:hover {background-color: #d4ebff;}#sk-container-id-1 div.sk-parallel-item::after {content: \"\";width: 100%;border-bottom: 1px solid gray;flex-grow: 1;}#sk-container-id-1 div.sk-label:hover label.sk-toggleable__label {background-color: #d4ebff;}#sk-container-id-1 div.sk-serial::before {content: \"\";position: absolute;border-left: 1px solid gray;box-sizing: border-box;top: 0;bottom: 0;left: 50%;z-index: 0;}#sk-container-id-1 div.sk-serial {display: flex;flex-direction: column;align-items: center;background-color: white;padding-right: 0.2em;padding-left: 0.2em;position: relative;}#sk-container-id-1 div.sk-item {position: relative;z-index: 1;}#sk-container-id-1 div.sk-parallel {display: flex;align-items: stretch;justify-content: center;background-color: white;position: relative;}#sk-container-id-1 div.sk-item::before, #sk-container-id-1 div.sk-parallel-item::before {content: \"\";position: absolute;border-left: 1px solid gray;box-sizing: border-box;top: 0;bottom: 0;left: 50%;z-index: -1;}#sk-container-id-1 div.sk-parallel-item {display: flex;flex-direction: column;z-index: 1;position: relative;background-color: white;}#sk-container-id-1 div.sk-parallel-item:first-child::after {align-self: flex-end;width: 50%;}#sk-container-id-1 div.sk-parallel-item:last-child::after {align-self: flex-start;width: 50%;}#sk-container-id-1 div.sk-parallel-item:only-child::after {width: 0;}#sk-container-id-1 div.sk-dashed-wrapped {border: 1px dashed gray;margin: 0 0.4em 0.5em 0.4em;box-sizing: border-box;padding-bottom: 0.4em;background-color: white;}#sk-container-id-1 div.sk-label label {font-family: monospace;font-weight: bold;display: inline-block;line-height: 1.2em;}#sk-container-id-1 div.sk-label-container {text-align: center;}#sk-container-id-1 div.sk-container {/* jupyter's `normalize.less` sets `[hidden] { display: none; }` but bootstrap.min.css set `[hidden] { display: none !important; }` so we also need the `!important` here to be able to override the default hidden behavior on the sphinx rendered scikit-learn.org. See: https://github.com/scikit-learn/scikit-learn/issues/21755 */display: inline-block !important;position: relative;}#sk-container-id-1 div.sk-text-repr-fallback {display: none;}</style><div id=\"sk-container-id-1\" class=\"sk-top-container\"><div class=\"sk-text-repr-fallback\"><pre>SVC(C=3.5, probability=True, verbose=1)</pre><b>In a Jupyter environment, please rerun this cell to show the HTML representation or trust the notebook. <br />On GitHub, the HTML representation is unable to render, please try loading this page with nbviewer.org.</b></div><div class=\"sk-container\" hidden><div class=\"sk-item\"><div class=\"sk-estimator sk-toggleable\"><input class=\"sk-toggleable__control sk-hidden--visually\" id=\"sk-estimator-id-1\" type=\"checkbox\" checked><label for=\"sk-estimator-id-1\" class=\"sk-toggleable__label sk-toggleable__label-arrow\">SVC</label><div class=\"sk-toggleable__content\"><pre>SVC(C=3.5, probability=True, verbose=1)</pre></div></div></div></div></div>"
            ]
          },
          "metadata": {},
          "execution_count": 20
        }
      ],
      "source": [
        "svm_model.fit(X, y)"
      ]
    },
    {
      "cell_type": "code",
      "execution_count": 21,
      "metadata": {
        "id": "ETuuyM3xMocm"
      },
      "outputs": [],
      "source": [
        "X_test = np.array([nlp(text).vector for text in df_pred['text']])"
      ]
    },
    {
      "cell_type": "code",
      "execution_count": 22,
      "metadata": {
        "id": "lH1r8i2PMoZ0"
      },
      "outputs": [],
      "source": [
        "df_pred['target'] = svm_model.predict(X_test)"
      ]
    },
    {
      "cell_type": "code",
      "execution_count": 23,
      "metadata": {
        "id": "AEPxi79a2AcU"
      },
      "outputs": [],
      "source": [
        "svm_prob = svm_model.predict_proba(X_test)"
      ]
    },
    {
      "cell_type": "code",
      "execution_count": 24,
      "metadata": {
        "id": "J2ESZRmSMoXW"
      },
      "outputs": [],
      "source": [
        "nlp_svm = df_pred[['id', 'target']]"
      ]
    },
    {
      "cell_type": "code",
      "execution_count": 25,
      "metadata": {
        "id": "zD8EDRySMoUg"
      },
      "outputs": [],
      "source": [
        "nlp_svm.to_csv('nlp_svm.csv', index=False)"
      ]
    },
    {
      "cell_type": "markdown",
      "metadata": {
        "id": "FH2q8OZkmbUs"
      },
      "source": [
        "## CountVectorizer on ngrams + SGDClassifier"
      ]
    },
    {
      "cell_type": "code",
      "source": [
        "def CountVectorize_tweets(df, df_pred):\n",
        "    all_df = pd.concat([df, df_pred], ignore_index=True)\n",
        "    train_text = []\n",
        "    train_hashtag = []\n",
        "    pred_text = []\n",
        "    pred_hashtag = []\n",
        "    for index, row in all_df.iterrows():\n",
        "        # This is simply to display how the process moves on. It's off now\n",
        "        # print(f'{index}/{len(all_df)}')\n",
        "\n",
        "        # This chunk of code filgers hashtags\n",
        "        tweet = row['text'].split(' ')\n",
        "        hashtags = [word for word in tweet if word.startswith('#')]\n",
        "\n",
        "        # These lines were meant to remove urls and account names from the tweets. However,\n",
        "        # the classifier seems to work better with them\n",
        "        # remove = [word for word in tweet if word.startswith('@') or 'http' in word]\n",
        "        # tweet = [word for word in tweet if word not in remove]\n",
        "\n",
        "        # This puts the tweet and the hashtags together in a string\n",
        "        tweet = ' '.join(tweet)\n",
        "        hashtags = ' '.join(hashtags)\n",
        "\n",
        "        # Lemmatization\n",
        "        doc = nlp(tweet)\n",
        "        tweet = [token.lemma_ for token in doc]\n",
        "        tweet = ' '.join(tweet)\n",
        "\n",
        "        # This separates the tweets into the training and prediction sets\n",
        "        if index > df.index[-1]:\n",
        "            pred_text.append(tweet)\n",
        "            pred_hashtag.append(hashtags)\n",
        "        else:\n",
        "            train_text.append(tweet)\n",
        "            train_hashtag.append(hashtags)\n",
        "\n",
        "    # This checks whether the resulting data has the same lenght as the original datasets\n",
        "    assert len(df) == len(train_text)\n",
        "    assert len(df_pred) == len(pred_text)\n",
        "\n",
        "    # This instantiates a count vectorizer over the words in each tweets\n",
        "    count_vectorizer = CountVectorizer(stop_words='english', lowercase=True,ngram_range=(1, 2))\n",
        "    train_text_m = count_vectorizer.fit_transform(train_text).toarray()\n",
        "    pred_text_m = count_vectorizer.transform(pred_text).toarray()\n",
        "\n",
        "    # This instantiates a tf-idf vectorizer over the hashtags\n",
        "    count_vectorizer = TfidfVectorizer(lowercase=True)\n",
        "    train_hashtag_m = count_vectorizer.fit_transform(train_hashtag).toarray()\n",
        "    pred_hashtag_m = count_vectorizer.transform(pred_hashtag).toarray()\n",
        "\n",
        "    # This puts together the arrays\n",
        "    X_train = np.concatenate((train_text_m, train_hashtag_m), axis=1)\n",
        "    X_pred = np.concatenate((pred_text_m, pred_hashtag_m), axis=1)\n",
        "    return X_train, X_pred"
      ],
      "metadata": {
        "id": "03d0sZzQseoD"
      },
      "execution_count": 26,
      "outputs": []
    },
    {
      "cell_type": "code",
      "source": [
        "X_train, X_pred = CountVectorize_tweets(df, df_pred)"
      ],
      "metadata": {
        "id": "n0S-wqTE4tHV"
      },
      "execution_count": 27,
      "outputs": []
    },
    {
      "cell_type": "code",
      "source": [
        "sgd_classifier = SGDClassifier(loss='log_loss', verbose=1)"
      ],
      "metadata": {
        "id": "7ipL1jP54808"
      },
      "execution_count": 28,
      "outputs": []
    },
    {
      "cell_type": "code",
      "source": [
        "cv_scores_sgd = cross_val_score(sgd_classifier, X_train, y, cv=5, scoring=f1_score, verbose=1)\n",
        "\n",
        "print(\"Cross-Validation Scores:\", cv_scores_sgd)\n",
        "print()\n",
        "print(\"Mean Accuracy: {:.2f}\".format(cv_scores_sgd.mean()))\n",
        "print(\"Standard Deviation: {:.2f}\".format(cv_scores_sgd.std()))"
      ],
      "metadata": {
        "colab": {
          "base_uri": "https://localhost:8080/"
        },
        "id": "ybHMHNuINC3I",
        "outputId": "067ff6a4-13fa-43ea-8750-393b81b12141"
      },
      "execution_count": 29,
      "outputs": [
        {
          "output_type": "stream",
          "name": "stdout",
          "text": [
            "-- Epoch 1\n",
            "Norm: 209.66, NNZs: 58956, Bias: -3.290940, T: 6090, Avg. loss: 2.746111\n",
            "Total training time: 1.70 seconds.\n",
            "-- Epoch 2\n",
            "Norm: 127.39, NNZs: 58956, Bias: -1.192990, T: 12180, Avg. loss: 0.422751\n",
            "Total training time: 2.97 seconds.\n",
            "-- Epoch 3\n",
            "Norm: 91.81, NNZs: 58956, Bias: -2.624307, T: 18270, Avg. loss: 0.148670\n",
            "Total training time: 4.26 seconds.\n",
            "-- Epoch 4\n",
            "Norm: 73.22, NNZs: 58956, Bias: -1.703017, T: 24360, Avg. loss: 0.094220\n",
            "Total training time: 5.55 seconds.\n",
            "-- Epoch 5\n",
            "Norm: 62.51, NNZs: 58956, Bias: -2.219513, T: 30450, Avg. loss: 0.079268\n",
            "Total training time: 6.83 seconds.\n",
            "-- Epoch 6\n",
            "Norm: 55.82, NNZs: 58956, Bias: -2.208719, T: 36540, Avg. loss: 0.074513\n",
            "Total training time: 8.10 seconds.\n",
            "-- Epoch 7\n",
            "Norm: 51.44, NNZs: 58956, Bias: -1.949519, T: 42630, Avg. loss: 0.072501\n",
            "Total training time: 9.39 seconds.\n",
            "-- Epoch 8\n",
            "Norm: 48.47, NNZs: 58956, Bias: -1.785196, T: 48720, Avg. loss: 0.073442\n",
            "Total training time: 10.67 seconds.\n",
            "-- Epoch 9\n",
            "Norm: 46.38, NNZs: 58956, Bias: -1.977234, T: 54810, Avg. loss: 0.077216\n",
            "Total training time: 12.28 seconds.\n",
            "-- Epoch 10\n",
            "Norm: 44.91, NNZs: 58956, Bias: -1.701272, T: 60900, Avg. loss: 0.078113\n",
            "Total training time: 13.81 seconds.\n",
            "-- Epoch 11\n",
            "Norm: 43.82, NNZs: 58956, Bias: -1.668382, T: 66990, Avg. loss: 0.079903\n",
            "Total training time: 15.07 seconds.\n",
            "-- Epoch 12\n",
            "Norm: 42.98, NNZs: 58956, Bias: -1.823043, T: 73080, Avg. loss: 0.079485\n",
            "Total training time: 16.37 seconds.\n",
            "Convergence after 12 epochs took 16.37 seconds\n",
            "-- Epoch 1\n",
            "Norm: 202.46, NNZs: 58137, Bias: -2.250508, T: 6090, Avg. loss: 2.702611\n",
            "Total training time: 1.33 seconds.\n",
            "-- Epoch 2\n",
            "Norm: 123.78, NNZs: 58137, Bias: -3.401958, T: 12180, Avg. loss: 0.384581\n",
            "Total training time: 2.59 seconds.\n",
            "-- Epoch 3\n",
            "Norm: 89.61, NNZs: 58137, Bias: -2.501547, T: 18270, Avg. loss: 0.147023\n",
            "Total training time: 3.99 seconds.\n",
            "-- Epoch 4\n",
            "Norm: 71.90, NNZs: 58137, Bias: -2.246622, T: 24360, Avg. loss: 0.096080\n",
            "Total training time: 5.69 seconds.\n",
            "-- Epoch 5\n",
            "Norm: 61.42, NNZs: 58137, Bias: -1.841854, T: 30450, Avg. loss: 0.078624\n",
            "Total training time: 6.94 seconds.\n",
            "-- Epoch 6\n",
            "Norm: 54.87, NNZs: 58137, Bias: -2.286515, T: 36540, Avg. loss: 0.073676\n",
            "Total training time: 8.18 seconds.\n",
            "-- Epoch 7\n",
            "Norm: 50.64, NNZs: 58137, Bias: -1.740145, T: 42630, Avg. loss: 0.074004\n",
            "Total training time: 9.45 seconds.\n",
            "-- Epoch 8\n",
            "Norm: 47.78, NNZs: 58137, Bias: -1.813758, T: 48720, Avg. loss: 0.074015\n",
            "Total training time: 10.70 seconds.\n",
            "-- Epoch 9\n",
            "Norm: 45.75, NNZs: 58137, Bias: -2.121179, T: 54810, Avg. loss: 0.076129\n",
            "Total training time: 11.97 seconds.\n",
            "-- Epoch 10\n",
            "Norm: 44.33, NNZs: 58137, Bias: -1.807927, T: 60900, Avg. loss: 0.077480\n",
            "Total training time: 13.23 seconds.\n",
            "-- Epoch 11\n",
            "Norm: 43.28, NNZs: 58137, Bias: -1.805468, T: 66990, Avg. loss: 0.077909\n",
            "Total training time: 14.50 seconds.\n",
            "Convergence after 11 epochs took 14.50 seconds\n",
            "-- Epoch 1\n",
            "Norm: 207.05, NNZs: 58554, Bias: -6.946751, T: 6090, Avg. loss: 2.709509\n",
            "Total training time: 1.60 seconds.\n",
            "-- Epoch 2\n",
            "Norm: 125.52, NNZs: 58554, Bias: -1.767149, T: 12180, Avg. loss: 0.371404\n",
            "Total training time: 2.86 seconds.\n",
            "-- Epoch 3\n",
            "Norm: 90.62, NNZs: 58554, Bias: -2.306525, T: 18270, Avg. loss: 0.131988\n",
            "Total training time: 4.15 seconds.\n",
            "-- Epoch 4\n",
            "Norm: 72.33, NNZs: 58554, Bias: -2.845836, T: 24360, Avg. loss: 0.078484\n",
            "Total training time: 5.41 seconds.\n",
            "-- Epoch 5\n",
            "Norm: 61.86, NNZs: 58554, Bias: -1.814437, T: 30450, Avg. loss: 0.072350\n",
            "Total training time: 6.67 seconds.\n",
            "-- Epoch 6\n",
            "Norm: 55.32, NNZs: 58554, Bias: -2.033533, T: 36540, Avg. loss: 0.068796\n",
            "Total training time: 7.92 seconds.\n",
            "-- Epoch 7\n",
            "Norm: 51.07, NNZs: 58554, Bias: -1.722241, T: 42630, Avg. loss: 0.069360\n",
            "Total training time: 9.18 seconds.\n",
            "-- Epoch 8\n",
            "Norm: 48.18, NNZs: 58554, Bias: -1.978638, T: 48720, Avg. loss: 0.069249\n",
            "Total training time: 10.44 seconds.\n",
            "-- Epoch 9\n",
            "Norm: 46.16, NNZs: 58554, Bias: -1.762283, T: 54810, Avg. loss: 0.070817\n",
            "Total training time: 12.08 seconds.\n",
            "-- Epoch 10\n",
            "Norm: 44.69, NNZs: 58554, Bias: -1.793872, T: 60900, Avg. loss: 0.072621\n",
            "Total training time: 13.62 seconds.\n",
            "-- Epoch 11\n",
            "Norm: 43.60, NNZs: 58554, Bias: -1.984637, T: 66990, Avg. loss: 0.073847\n",
            "Total training time: 14.92 seconds.\n",
            "Convergence after 11 epochs took 14.92 seconds\n",
            "-- Epoch 1\n",
            "Norm: 207.76, NNZs: 59603, Bias: -3.591113, T: 6091, Avg. loss: 2.777495\n",
            "Total training time: 1.30 seconds.\n",
            "-- Epoch 2\n",
            "Norm: 126.08, NNZs: 59603, Bias: -3.617834, T: 12182, Avg. loss: 0.405509\n",
            "Total training time: 2.55 seconds.\n",
            "-- Epoch 3\n",
            "Norm: 90.88, NNZs: 59603, Bias: -2.367071, T: 18273, Avg. loss: 0.139503\n",
            "Total training time: 3.84 seconds.\n",
            "-- Epoch 4\n",
            "Norm: 72.63, NNZs: 59603, Bias: -2.046680, T: 24364, Avg. loss: 0.092037\n",
            "Total training time: 5.11 seconds.\n",
            "-- Epoch 5\n",
            "Norm: 61.99, NNZs: 59603, Bias: -2.515635, T: 30455, Avg. loss: 0.073377\n",
            "Total training time: 6.43 seconds.\n",
            "-- Epoch 6\n",
            "Norm: 55.42, NNZs: 59603, Bias: -2.126728, T: 36546, Avg. loss: 0.073049\n",
            "Total training time: 8.30 seconds.\n",
            "-- Epoch 7\n",
            "Norm: 51.12, NNZs: 59603, Bias: -1.748767, T: 42637, Avg. loss: 0.070812\n",
            "Total training time: 9.56 seconds.\n",
            "-- Epoch 8\n",
            "Norm: 48.24, NNZs: 59603, Bias: -1.778012, T: 48728, Avg. loss: 0.073976\n",
            "Total training time: 10.81 seconds.\n",
            "-- Epoch 9\n",
            "Norm: 46.25, NNZs: 59603, Bias: -1.714229, T: 54819, Avg. loss: 0.075263\n",
            "Total training time: 12.06 seconds.\n",
            "-- Epoch 10\n",
            "Norm: 44.78, NNZs: 59603, Bias: -1.987132, T: 60910, Avg. loss: 0.076588\n",
            "Total training time: 13.31 seconds.\n",
            "-- Epoch 11\n",
            "Norm: 43.71, NNZs: 59603, Bias: -2.115615, T: 67001, Avg. loss: 0.077848\n",
            "Total training time: 14.58 seconds.\n",
            "-- Epoch 12\n",
            "Norm: 42.90, NNZs: 59603, Bias: -2.143069, T: 73092, Avg. loss: 0.077857\n",
            "Total training time: 15.84 seconds.\n",
            "Convergence after 12 epochs took 15.84 seconds\n",
            "-- Epoch 1\n",
            "Norm: 214.32, NNZs: 59501, Bias: -4.852689, T: 6091, Avg. loss: 3.091429\n",
            "Total training time: 1.59 seconds.\n",
            "-- Epoch 2\n",
            "Norm: 129.46, NNZs: 59501, Bias: -1.787101, T: 12182, Avg. loss: 0.400881\n",
            "Total training time: 3.15 seconds.\n",
            "-- Epoch 3\n",
            "Norm: 93.60, NNZs: 59501, Bias: -1.804167, T: 18273, Avg. loss: 0.169231\n",
            "Total training time: 4.41 seconds.\n",
            "-- Epoch 4\n",
            "Norm: 74.81, NNZs: 59501, Bias: -1.807154, T: 24364, Avg. loss: 0.105357\n",
            "Total training time: 5.67 seconds.\n",
            "-- Epoch 5\n",
            "Norm: 63.77, NNZs: 59501, Bias: -1.821575, T: 30455, Avg. loss: 0.081281\n",
            "Total training time: 6.93 seconds.\n",
            "-- Epoch 6\n",
            "Norm: 56.90, NNZs: 59501, Bias: -1.806155, T: 36546, Avg. loss: 0.077782\n",
            "Total training time: 8.19 seconds.\n",
            "-- Epoch 7\n",
            "Norm: 52.40, NNZs: 59501, Bias: -1.657661, T: 42637, Avg. loss: 0.076454\n",
            "Total training time: 9.49 seconds.\n",
            "-- Epoch 8\n",
            "Norm: 49.37, NNZs: 59501, Bias: -1.996546, T: 48728, Avg. loss: 0.078707\n",
            "Total training time: 10.80 seconds.\n",
            "-- Epoch 9\n",
            "Norm: 47.25, NNZs: 59501, Bias: -1.648675, T: 54819, Avg. loss: 0.080010\n",
            "Total training time: 12.07 seconds.\n",
            "-- Epoch 10\n",
            "Norm: 45.74, NNZs: 59501, Bias: -1.725096, T: 60910, Avg. loss: 0.081819\n",
            "Total training time: 13.66 seconds.\n",
            "-- Epoch 11\n",
            "Norm: 44.62, NNZs: 59501, Bias: -1.762821, T: 67001, Avg. loss: 0.081733\n",
            "Total training time: 15.21 seconds.\n",
            "-- Epoch 12\n",
            "Norm: 43.77, NNZs: 59501, Bias: -1.588381, T: 73092, Avg. loss: 0.083300\n",
            "Total training time: 16.47 seconds.\n",
            "Convergence after 12 epochs took 16.47 seconds\n",
            "Cross-Validation Scores: [0.55019305 0.55038103 0.54148472 0.52727273 0.73618677]\n",
            "\n",
            "Mean Accuracy: 0.58\n",
            "Standard Deviation: 0.08\n"
          ]
        }
      ]
    },
    {
      "cell_type": "code",
      "source": [
        "sgd_classifier.fit(X_train, y)"
      ],
      "metadata": {
        "colab": {
          "base_uri": "https://localhost:8080/",
          "height": 612
        },
        "id": "O2HGL_Wtms_p",
        "outputId": "4e89dae2-c8f6-4174-f770-756670cc4633"
      },
      "execution_count": 30,
      "outputs": [
        {
          "output_type": "stream",
          "name": "stdout",
          "text": [
            "-- Epoch 1\n",
            "Norm: 189.71, NNZs: 72144, Bias: -0.805957, T: 7613, Avg. loss: 2.521911\n",
            "Total training time: 1.62 seconds.\n",
            "-- Epoch 2\n",
            "Norm: 114.12, NNZs: 72153, Bias: -2.454343, T: 15226, Avg. loss: 0.359162\n",
            "Total training time: 3.23 seconds.\n",
            "-- Epoch 3\n",
            "Norm: 83.00, NNZs: 72153, Bias: -2.584523, T: 22839, Avg. loss: 0.132088\n",
            "Total training time: 4.81 seconds.\n",
            "-- Epoch 4\n",
            "Norm: 67.35, NNZs: 72153, Bias: -2.301789, T: 30452, Avg. loss: 0.096600\n",
            "Total training time: 6.82 seconds.\n",
            "-- Epoch 5\n",
            "Norm: 58.58, NNZs: 72153, Bias: -1.764644, T: 38065, Avg. loss: 0.085413\n",
            "Total training time: 9.04 seconds.\n",
            "-- Epoch 6\n",
            "Norm: 53.26, NNZs: 72153, Bias: -1.939348, T: 45678, Avg. loss: 0.088937\n",
            "Total training time: 10.78 seconds.\n",
            "-- Epoch 7\n",
            "Norm: 49.90, NNZs: 72153, Bias: -1.910645, T: 53291, Avg. loss: 0.088626\n",
            "Total training time: 12.36 seconds.\n",
            "-- Epoch 8\n",
            "Norm: 47.66, NNZs: 72153, Bias: -1.869364, T: 60904, Avg. loss: 0.090767\n",
            "Total training time: 13.95 seconds.\n",
            "-- Epoch 9\n",
            "Norm: 46.13, NNZs: 72153, Bias: -1.852016, T: 68517, Avg. loss: 0.091812\n",
            "Total training time: 15.52 seconds.\n",
            "-- Epoch 10\n",
            "Norm: 45.04, NNZs: 72153, Bias: -1.538462, T: 76130, Avg. loss: 0.093184\n",
            "Total training time: 17.09 seconds.\n",
            "Convergence after 10 epochs took 17.09 seconds\n"
          ]
        },
        {
          "output_type": "execute_result",
          "data": {
            "text/plain": [
              "SGDClassifier(loss='log_loss', verbose=1)"
            ],
            "text/html": [
              "<style>#sk-container-id-2 {color: black;background-color: white;}#sk-container-id-2 pre{padding: 0;}#sk-container-id-2 div.sk-toggleable {background-color: white;}#sk-container-id-2 label.sk-toggleable__label {cursor: pointer;display: block;width: 100%;margin-bottom: 0;padding: 0.3em;box-sizing: border-box;text-align: center;}#sk-container-id-2 label.sk-toggleable__label-arrow:before {content: \"▸\";float: left;margin-right: 0.25em;color: #696969;}#sk-container-id-2 label.sk-toggleable__label-arrow:hover:before {color: black;}#sk-container-id-2 div.sk-estimator:hover label.sk-toggleable__label-arrow:before {color: black;}#sk-container-id-2 div.sk-toggleable__content {max-height: 0;max-width: 0;overflow: hidden;text-align: left;background-color: #f0f8ff;}#sk-container-id-2 div.sk-toggleable__content pre {margin: 0.2em;color: black;border-radius: 0.25em;background-color: #f0f8ff;}#sk-container-id-2 input.sk-toggleable__control:checked~div.sk-toggleable__content {max-height: 200px;max-width: 100%;overflow: auto;}#sk-container-id-2 input.sk-toggleable__control:checked~label.sk-toggleable__label-arrow:before {content: \"▾\";}#sk-container-id-2 div.sk-estimator input.sk-toggleable__control:checked~label.sk-toggleable__label {background-color: #d4ebff;}#sk-container-id-2 div.sk-label input.sk-toggleable__control:checked~label.sk-toggleable__label {background-color: #d4ebff;}#sk-container-id-2 input.sk-hidden--visually {border: 0;clip: rect(1px 1px 1px 1px);clip: rect(1px, 1px, 1px, 1px);height: 1px;margin: -1px;overflow: hidden;padding: 0;position: absolute;width: 1px;}#sk-container-id-2 div.sk-estimator {font-family: monospace;background-color: #f0f8ff;border: 1px dotted black;border-radius: 0.25em;box-sizing: border-box;margin-bottom: 0.5em;}#sk-container-id-2 div.sk-estimator:hover {background-color: #d4ebff;}#sk-container-id-2 div.sk-parallel-item::after {content: \"\";width: 100%;border-bottom: 1px solid gray;flex-grow: 1;}#sk-container-id-2 div.sk-label:hover label.sk-toggleable__label {background-color: #d4ebff;}#sk-container-id-2 div.sk-serial::before {content: \"\";position: absolute;border-left: 1px solid gray;box-sizing: border-box;top: 0;bottom: 0;left: 50%;z-index: 0;}#sk-container-id-2 div.sk-serial {display: flex;flex-direction: column;align-items: center;background-color: white;padding-right: 0.2em;padding-left: 0.2em;position: relative;}#sk-container-id-2 div.sk-item {position: relative;z-index: 1;}#sk-container-id-2 div.sk-parallel {display: flex;align-items: stretch;justify-content: center;background-color: white;position: relative;}#sk-container-id-2 div.sk-item::before, #sk-container-id-2 div.sk-parallel-item::before {content: \"\";position: absolute;border-left: 1px solid gray;box-sizing: border-box;top: 0;bottom: 0;left: 50%;z-index: -1;}#sk-container-id-2 div.sk-parallel-item {display: flex;flex-direction: column;z-index: 1;position: relative;background-color: white;}#sk-container-id-2 div.sk-parallel-item:first-child::after {align-self: flex-end;width: 50%;}#sk-container-id-2 div.sk-parallel-item:last-child::after {align-self: flex-start;width: 50%;}#sk-container-id-2 div.sk-parallel-item:only-child::after {width: 0;}#sk-container-id-2 div.sk-dashed-wrapped {border: 1px dashed gray;margin: 0 0.4em 0.5em 0.4em;box-sizing: border-box;padding-bottom: 0.4em;background-color: white;}#sk-container-id-2 div.sk-label label {font-family: monospace;font-weight: bold;display: inline-block;line-height: 1.2em;}#sk-container-id-2 div.sk-label-container {text-align: center;}#sk-container-id-2 div.sk-container {/* jupyter's `normalize.less` sets `[hidden] { display: none; }` but bootstrap.min.css set `[hidden] { display: none !important; }` so we also need the `!important` here to be able to override the default hidden behavior on the sphinx rendered scikit-learn.org. See: https://github.com/scikit-learn/scikit-learn/issues/21755 */display: inline-block !important;position: relative;}#sk-container-id-2 div.sk-text-repr-fallback {display: none;}</style><div id=\"sk-container-id-2\" class=\"sk-top-container\"><div class=\"sk-text-repr-fallback\"><pre>SGDClassifier(loss=&#x27;log_loss&#x27;, verbose=1)</pre><b>In a Jupyter environment, please rerun this cell to show the HTML representation or trust the notebook. <br />On GitHub, the HTML representation is unable to render, please try loading this page with nbviewer.org.</b></div><div class=\"sk-container\" hidden><div class=\"sk-item\"><div class=\"sk-estimator sk-toggleable\"><input class=\"sk-toggleable__control sk-hidden--visually\" id=\"sk-estimator-id-2\" type=\"checkbox\" checked><label for=\"sk-estimator-id-2\" class=\"sk-toggleable__label sk-toggleable__label-arrow\">SGDClassifier</label><div class=\"sk-toggleable__content\"><pre>SGDClassifier(loss=&#x27;log_loss&#x27;, verbose=1)</pre></div></div></div></div></div>"
            ]
          },
          "metadata": {},
          "execution_count": 30
        }
      ]
    },
    {
      "cell_type": "code",
      "source": [
        "df_pred['target'] = sgd_classifier.predict(X_pred)\n",
        "sgd_prob = sgd_classifier.predict_proba(X_pred)\n",
        "nlp_sgd = df_pred[['id', 'target']]\n",
        "nlp_sgd.to_csv('nlp_sgd.csv', index=False)"
      ],
      "metadata": {
        "id": "4Tq79-wimz7g"
      },
      "execution_count": 31,
      "outputs": []
    },
    {
      "cell_type": "markdown",
      "source": [
        "## Ensemble"
      ],
      "metadata": {
        "id": "MNDODisZKVka"
      }
    },
    {
      "cell_type": "code",
      "source": [
        "# Combining these two models gets above 0.82 F1 score\n",
        "combined_props = 1/2 * svm_prob[:, 1].reshape(-1, 1) + 1/2 * sgd_prob[:, 1].reshape(-1, 1)"
      ],
      "metadata": {
        "id": "3NdQBLinKqqA"
      },
      "execution_count": 32,
      "outputs": []
    },
    {
      "cell_type": "code",
      "source": [
        "combined_predictions = (combined_props > 0.5).astype(int)"
      ],
      "metadata": {
        "id": "zFKDRwW8KxTE"
      },
      "execution_count": 33,
      "outputs": []
    },
    {
      "cell_type": "code",
      "source": [
        "nlp_ensemble = pd.DataFrame()\n",
        "nlp_ensemble['id'] = df_pred['id']\n",
        "nlp_ensemble['target'] = combined_predictions"
      ],
      "metadata": {
        "id": "8TBp9OxQK2mE"
      },
      "execution_count": 34,
      "outputs": []
    },
    {
      "cell_type": "code",
      "source": [
        "nlp_ensemble.to_csv('nlp_ensemble.csv', index=False)"
      ],
      "metadata": {
        "id": "XuRjKdQ3OYLT"
      },
      "execution_count": 35,
      "outputs": []
    }
  ],
  "metadata": {
    "accelerator": "GPU",
    "colab": {
      "provenance": [],
      "gpuType": "T4"
    },
    "kernelspec": {
      "display_name": "Python 3",
      "name": "python3"
    },
    "language_info": {
      "name": "python"
    }
  },
  "nbformat": 4,
  "nbformat_minor": 0
}