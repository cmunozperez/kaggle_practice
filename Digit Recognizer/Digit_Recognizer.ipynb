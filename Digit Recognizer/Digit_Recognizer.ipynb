{
  "nbformat": 4,
  "nbformat_minor": 0,
  "metadata": {
    "colab": {
      "provenance": [],
      "gpuType": "T4"
    },
    "kernelspec": {
      "name": "python3",
      "display_name": "Python 3"
    },
    "language_info": {
      "name": "python"
    },
    "accelerator": "GPU"
  },
  "cells": [
    {
      "cell_type": "markdown",
      "source": [
        "# Digit recognizer\n",
        "\n",
        "This a solution to the [digit recognizer competition](https://www.kaggle.com/competitions/digit-recognizer/overview) in Kaggle, which is based on the MNIST database. It includes a CNN that achieves 0.985 accuracy."
      ],
      "metadata": {
        "id": "5wn3j0AR4Cw2"
      }
    },
    {
      "cell_type": "code",
      "execution_count": 1,
      "metadata": {
        "id": "Y9VtxYqgdXsA"
      },
      "outputs": [],
      "source": [
        "import numpy as np\n",
        "\n",
        "import tensorflow as tf\n",
        "from scipy.io import loadmat\n",
        "from tensorflow.keras.preprocessing.image import array_to_img\n",
        "from tensorflow.keras.models import Sequential\n",
        "from tensorflow.keras.layers import Dense, Flatten, Softmax, Conv2D, MaxPooling2D, BatchNormalization, Dropout\n",
        "from tensorflow.keras.callbacks import EarlyStopping\n",
        "\n",
        "import matplotlib.pyplot as plt\n",
        "import random\n",
        "import pandas as pd"
      ]
    },
    {
      "cell_type": "markdown",
      "source": [
        "# Importing the data"
      ],
      "metadata": {
        "id": "qA8f2kVXqVkr"
      }
    },
    {
      "cell_type": "code",
      "source": [
        "train_data = np.genfromtxt('train.csv', delimiter=',')"
      ],
      "metadata": {
        "id": "PwUyEl6EdirA"
      },
      "execution_count": 2,
      "outputs": []
    },
    {
      "cell_type": "code",
      "source": [
        "train_data.shape"
      ],
      "metadata": {
        "colab": {
          "base_uri": "https://localhost:8080/"
        },
        "id": "zRBI4-uTe6h3",
        "outputId": "b16c4638-cca9-42da-b5c0-7e662a8c4593"
      },
      "execution_count": 3,
      "outputs": [
        {
          "output_type": "execute_result",
          "data": {
            "text/plain": [
              "(42001, 785)"
            ]
          },
          "metadata": {},
          "execution_count": 3
        }
      ]
    },
    {
      "cell_type": "code",
      "source": [
        "train_data = train_data[1:, :]"
      ],
      "metadata": {
        "id": "gdsysQcDnhAI"
      },
      "execution_count": 4,
      "outputs": []
    },
    {
      "cell_type": "code",
      "source": [
        "train_data.shape"
      ],
      "metadata": {
        "colab": {
          "base_uri": "https://localhost:8080/"
        },
        "id": "6mCMlpKbsiNH",
        "outputId": "5b985e3b-9a3d-4208-b31b-b1a01a6f64c2"
      },
      "execution_count": 5,
      "outputs": [
        {
          "output_type": "execute_result",
          "data": {
            "text/plain": [
              "(42000, 785)"
            ]
          },
          "metadata": {},
          "execution_count": 5
        }
      ]
    },
    {
      "cell_type": "code",
      "source": [
        "X = train_data[:, 1:]\n",
        "y = train_data[:, 0]"
      ],
      "metadata": {
        "id": "CQ0lm6qDhKgD"
      },
      "execution_count": 6,
      "outputs": []
    },
    {
      "cell_type": "code",
      "source": [
        "X.shape"
      ],
      "metadata": {
        "colab": {
          "base_uri": "https://localhost:8080/"
        },
        "id": "0_zO1UxBsTBQ",
        "outputId": "563ffb9c-17ff-4f7e-faa6-1b52bbc8f29a"
      },
      "execution_count": 7,
      "outputs": [
        {
          "output_type": "execute_result",
          "data": {
            "text/plain": [
              "(42000, 784)"
            ]
          },
          "metadata": {},
          "execution_count": 7
        }
      ]
    },
    {
      "cell_type": "code",
      "source": [
        "random_number = random.randint(0, int(X.shape[0]))\n",
        "\n",
        "image = np.reshape(X[random_number, ], (28, 28))\n",
        "print(f'The label of this image is \"{int(y[random_number])}\".')\n",
        "plt.imshow(image, cmap='gray');"
      ],
      "metadata": {
        "colab": {
          "base_uri": "https://localhost:8080/",
          "height": 447
        },
        "id": "73L5M-rqfhGh",
        "outputId": "405a91ce-a6a6-482d-e7dc-0485c535f6a6"
      },
      "execution_count": 8,
      "outputs": [
        {
          "output_type": "stream",
          "name": "stdout",
          "text": [
            "The label of this image is \"7\".\n"
          ]
        },
        {
          "output_type": "display_data",
          "data": {
            "text/plain": [
              "<Figure size 640x480 with 1 Axes>"
            ],
            "image/png": "[encoded data removed]"
          },
          "metadata": {}
        }
      ]
    },
    {
      "cell_type": "code",
      "source": [
        "predict_data = np.genfromtxt('test.csv', delimiter=',')"
      ],
      "metadata": {
        "id": "0uPV0ABgd5Np"
      },
      "execution_count": 9,
      "outputs": []
    },
    {
      "cell_type": "code",
      "source": [
        "predict_data.shape"
      ],
      "metadata": {
        "colab": {
          "base_uri": "https://localhost:8080/"
        },
        "id": "s1CNih2Ke_hR",
        "outputId": "ed470d7c-a730-4a8b-c91e-dc53d4d2539e"
      },
      "execution_count": 10,
      "outputs": [
        {
          "output_type": "execute_result",
          "data": {
            "text/plain": [
              "(28001, 784)"
            ]
          },
          "metadata": {},
          "execution_count": 10
        }
      ]
    },
    {
      "cell_type": "code",
      "source": [
        "predict_data = predict_data[1:, :]"
      ],
      "metadata": {
        "id": "LjVfx8hrqiXB"
      },
      "execution_count": 11,
      "outputs": []
    },
    {
      "cell_type": "code",
      "source": [
        "random_number = random.randint(0, int(predict_data.shape[0]))\n",
        "\n",
        "image = np.reshape(predict_data[random_number, ], (28, 28))\n",
        "print('The label of this image is unknow.')\n",
        "plt.imshow(image, cmap='gray');"
      ],
      "metadata": {
        "colab": {
          "base_uri": "https://localhost:8080/",
          "height": 447
        },
        "id": "pnRZHv8Mfaqj",
        "outputId": "6d175b6c-4319-4f04-9b38-42a75123da78"
      },
      "execution_count": 12,
      "outputs": [
        {
          "output_type": "stream",
          "name": "stdout",
          "text": [
            "The label of this image is unknow.\n"
          ]
        },
        {
          "output_type": "display_data",
          "data": {
            "text/plain": [
              "<Figure size 640x480 with 1 Axes>"
            ],
            "image/png": "[encoded data removed]"
          },
          "metadata": {}
        }
      ]
    },
    {
      "cell_type": "markdown",
      "source": [
        "## Convolutional neural network"
      ],
      "metadata": {
        "id": "5AY3fRx2q8sF"
      }
    },
    {
      "cell_type": "code",
      "source": [
        "cnn_train = np.reshape(X, (X.shape[0], 28, 28)) / 255\n",
        "cnn_predict = np.reshape(predict_data, (predict_data.shape[0], 28, 28)) / 255"
      ],
      "metadata": {
        "id": "rRdg6LrgrbRl"
      },
      "execution_count": 13,
      "outputs": []
    },
    {
      "cell_type": "code",
      "source": [
        "model_cnn = Sequential([\n",
        "        Conv2D(filters=16, input_shape=(28, 28, 1), kernel_size=(3, 3), activation='relu'),\n",
        "        BatchNormalization(),\n",
        "        Conv2D(filters=8, kernel_size=(3, 3), activation='relu'),\n",
        "        BatchNormalization(),\n",
        "        MaxPooling2D(pool_size=(4, 4)),\n",
        "        Flatten(),\n",
        "        BatchNormalization(),\n",
        "        Dense(units=32, activation='relu'),\n",
        "        Dropout(0.2),\n",
        "        Dense(units=10, activation='softmax')\n",
        "    ])"
      ],
      "metadata": {
        "id": "gHorUeOlqzNi"
      },
      "execution_count": 14,
      "outputs": []
    },
    {
      "cell_type": "code",
      "source": [
        "model_cnn.summary()"
      ],
      "metadata": {
        "colab": {
          "base_uri": "https://localhost:8080/"
        },
        "id": "9S6QpRPtrNse",
        "outputId": "bccfca24-3204-4b4d-88a8-b5aa44076c60"
      },
      "execution_count": 15,
      "outputs": [
        {
          "output_type": "stream",
          "name": "stdout",
          "text": [
            "Model: \"sequential\"\n",
            "_________________________________________________________________\n",
            " Layer (type)                Output Shape              Param #   \n",
            "=================================================================\n",
            " conv2d (Conv2D)             (None, 26, 26, 16)        160       \n",
            "                                                                 \n",
            " batch_normalization (Batch  (None, 26, 26, 16)        64        \n",
            " Normalization)                                                  \n",
            "                                                                 \n",
            " conv2d_1 (Conv2D)           (None, 24, 24, 8)         1160      \n",
            "                                                                 \n",
            " batch_normalization_1 (Bat  (None, 24, 24, 8)         32        \n",
            " chNormalization)                                                \n",
            "                                                                 \n",
            " max_pooling2d (MaxPooling2  (None, 6, 6, 8)           0         \n",
            " D)                                                              \n",
            "                                                                 \n",
            " flatten (Flatten)           (None, 288)               0         \n",
            "                                                                 \n",
            " batch_normalization_2 (Bat  (None, 288)               1152      \n",
            " chNormalization)                                                \n",
            "                                                                 \n",
            " dense (Dense)               (None, 32)                9248      \n",
            "                                                                 \n",
            " dropout (Dropout)           (None, 32)                0         \n",
            "                                                                 \n",
            " dense_1 (Dense)             (None, 10)                330       \n",
            "                                                                 \n",
            "=================================================================\n",
            "Total params: 12146 (47.45 KB)\n",
            "Trainable params: 11522 (45.01 KB)\n",
            "Non-trainable params: 624 (2.44 KB)\n",
            "_________________________________________________________________\n"
          ]
        }
      ]
    },
    {
      "cell_type": "code",
      "source": [
        "model_cnn.compile(optimizer='adam', loss='sparse_categorical_crossentropy', metrics=['accuracy'])"
      ],
      "metadata": {
        "id": "uXzoEtvOrPgJ"
      },
      "execution_count": 16,
      "outputs": []
    },
    {
      "cell_type": "code",
      "source": [
        "early_stop = EarlyStopping(monitor='val_accuracy', patience=5, restore_best_weights=True)"
      ],
      "metadata": {
        "id": "yNCvpyUDs3ga"
      },
      "execution_count": 17,
      "outputs": []
    },
    {
      "cell_type": "code",
      "source": [
        "history_cnn = model_cnn.fit(cnn_train, y, validation_split=0.2, batch_size=32, epochs=30, verbose=1, callbacks=[early_stop])"
      ],
      "metadata": {
        "colab": {
          "base_uri": "https://localhost:8080/"
        },
        "id": "7ndxD9x2tdn0",
        "outputId": "cca566ec-ae5d-4ca1-fa0a-23e824b466a3"
      },
      "execution_count": 18,
      "outputs": [
        {
          "output_type": "stream",
          "name": "stdout",
          "text": [
            "Epoch 1/30\n",
            "1050/1050 [==============================] - 11s 5ms/step - loss: 0.3784 - accuracy: 0.8835 - val_loss: 0.1072 - val_accuracy: 0.9705\n",
            "Epoch 2/30\n",
            "1050/1050 [==============================] - 6s 6ms/step - loss: 0.1425 - accuracy: 0.9569 - val_loss: 0.0772 - val_accuracy: 0.9764\n",
            "Epoch 3/30\n",
            "1050/1050 [==============================] - 5s 5ms/step - loss: 0.1122 - accuracy: 0.9666 - val_loss: 0.0598 - val_accuracy: 0.9819\n",
            "Epoch 4/30\n",
            "1050/1050 [==============================] - 7s 7ms/step - loss: 0.0948 - accuracy: 0.9705 - val_loss: 0.0596 - val_accuracy: 0.9801\n",
            "Epoch 5/30\n",
            "1050/1050 [==============================] - 5s 5ms/step - loss: 0.0860 - accuracy: 0.9724 - val_loss: 0.0495 - val_accuracy: 0.9830\n",
            "Epoch 6/30\n",
            "1050/1050 [==============================] - 6s 5ms/step - loss: 0.0764 - accuracy: 0.9762 - val_loss: 0.0508 - val_accuracy: 0.9838\n",
            "Epoch 7/30\n",
            "1050/1050 [==============================] - 6s 5ms/step - loss: 0.0764 - accuracy: 0.9758 - val_loss: 0.0517 - val_accuracy: 0.9851\n",
            "Epoch 8/30\n",
            "1050/1050 [==============================] - 5s 5ms/step - loss: 0.0704 - accuracy: 0.9781 - val_loss: 0.0519 - val_accuracy: 0.9832\n",
            "Epoch 9/30\n",
            "1050/1050 [==============================] - 6s 6ms/step - loss: 0.0710 - accuracy: 0.9782 - val_loss: 0.0452 - val_accuracy: 0.9861\n",
            "Epoch 10/30\n",
            "1050/1050 [==============================] - 5s 5ms/step - loss: 0.0639 - accuracy: 0.9789 - val_loss: 0.0486 - val_accuracy: 0.9850\n",
            "Epoch 11/30\n",
            "1050/1050 [==============================] - 6s 6ms/step - loss: 0.0629 - accuracy: 0.9806 - val_loss: 0.0481 - val_accuracy: 0.9852\n",
            "Epoch 12/30\n",
            "1050/1050 [==============================] - 5s 5ms/step - loss: 0.0589 - accuracy: 0.9812 - val_loss: 0.0496 - val_accuracy: 0.9852\n",
            "Epoch 13/30\n",
            "1050/1050 [==============================] - 6s 6ms/step - loss: 0.0538 - accuracy: 0.9829 - val_loss: 0.0513 - val_accuracy: 0.9848\n",
            "Epoch 14/30\n",
            "1050/1050 [==============================] - 5s 5ms/step - loss: 0.0532 - accuracy: 0.9835 - val_loss: 0.0613 - val_accuracy: 0.9820\n"
          ]
        }
      ]
    },
    {
      "cell_type": "code",
      "source": [
        "plt.plot(history_cnn.history['accuracy'])\n",
        "plt.plot(history_cnn.history['val_accuracy'])\n",
        "plt.title('Accuracy vs. epochs')\n",
        "plt.ylabel('Accuracy')\n",
        "plt.xlabel('Epoch')\n",
        "plt.legend(['Training', 'Validation'], loc='upper right')\n",
        "plt.show()"
      ],
      "metadata": {
        "colab": {
          "base_uri": "https://localhost:8080/",
          "height": 472
        },
        "id": "DAVWoFwDtr_r",
        "outputId": "2e08ef6f-fed0-419c-988d-23238b629cb1"
      },
      "execution_count": 19,
      "outputs": [
        {
          "output_type": "display_data",
          "data": {
            "text/plain": [
              "<Figure size 640x480 with 1 Axes>"
            ],
            "image/png": "[encoded data removed]"
          },
          "metadata": {}
        }
      ]
    },
    {
      "cell_type": "code",
      "source": [
        "plt.plot(history_cnn.history['loss'])\n",
        "plt.plot(history_cnn.history['val_loss'])\n",
        "plt.title('Loss vs. epochs')\n",
        "plt.ylabel('Loss')\n",
        "plt.xlabel('Epoch')\n",
        "plt.legend(['Training', 'Validation'], loc='upper right')\n",
        "plt.show()"
      ],
      "metadata": {
        "colab": {
          "base_uri": "https://localhost:8080/",
          "height": 472
        },
        "id": "O2QBGNF7vXuU",
        "outputId": "25c8dc33-6bde-4489-ae53-baf35e99210c"
      },
      "execution_count": 20,
      "outputs": [
        {
          "output_type": "display_data",
          "data": {
            "text/plain": [
              "<Figure size 640x480 with 1 Axes>"
            ],
            "image/png": "[encoded data removed]"
          },
          "metadata": {}
        }
      ]
    },
    {
      "cell_type": "code",
      "source": [
        "predictions = model_cnn.predict(cnn_predict)"
      ],
      "metadata": {
        "colab": {
          "base_uri": "https://localhost:8080/"
        },
        "id": "0oaQs8EkvgY0",
        "outputId": "cfba2577-1043-4093-8128-8e79fa3a9067"
      },
      "execution_count": 21,
      "outputs": [
        {
          "output_type": "stream",
          "name": "stdout",
          "text": [
            "875/875 [==============================] - 2s 2ms/step\n"
          ]
        }
      ]
    },
    {
      "cell_type": "code",
      "source": [
        "label_predictions = np.argmax(predictions, axis=1)"
      ],
      "metadata": {
        "id": "7fZBsifewSa5"
      },
      "execution_count": 22,
      "outputs": []
    },
    {
      "cell_type": "code",
      "source": [
        "label_predictions"
      ],
      "metadata": {
        "colab": {
          "base_uri": "https://localhost:8080/"
        },
        "id": "FYJiXvPGw2ln",
        "outputId": "3f82d371-663c-4ad6-8d94-642560b273bf"
      },
      "execution_count": 23,
      "outputs": [
        {
          "output_type": "execute_result",
          "data": {
            "text/plain": [
              "array([2, 0, 9, ..., 3, 9, 2])"
            ]
          },
          "metadata": {},
          "execution_count": 23
        }
      ]
    },
    {
      "cell_type": "code",
      "source": [
        "random_number = random.randint(0, int(cnn_predict.shape[0]))\n",
        "\n",
        "image = cnn_predict[random_number, ] #np.reshape(cnn_predict[random_number, ], (28, 28))\n",
        "print(f'The predicted label for this image is \"{int(label_predictions[random_number])}\".')\n",
        "plt.imshow(image, cmap='gray');"
      ],
      "metadata": {
        "colab": {
          "base_uri": "https://localhost:8080/",
          "height": 447
        },
        "id": "_NQbb-oPxkgI",
        "outputId": "c7d74b6c-f293-477b-9482-436181547d31"
      },
      "execution_count": 24,
      "outputs": [
        {
          "output_type": "stream",
          "name": "stdout",
          "text": [
            "The predicted label for this image is \"5\".\n"
          ]
        },
        {
          "output_type": "display_data",
          "data": {
            "text/plain": [
              "<Figure size 640x480 with 1 Axes>"
            ],
            "image/png": "[encoded data removed]"
          },
          "metadata": {}
        }
      ]
    },
    {
      "cell_type": "markdown",
      "source": [
        "## Saving the predictions as csv"
      ],
      "metadata": {
        "id": "a-K4WWaD3Zkw"
      }
    },
    {
      "cell_type": "code",
      "source": [
        "df = pd.DataFrame()"
      ],
      "metadata": {
        "id": "GeM31dnPyX-V"
      },
      "execution_count": 25,
      "outputs": []
    },
    {
      "cell_type": "code",
      "source": [
        "df['ImageId'] = range(1, 28001)"
      ],
      "metadata": {
        "id": "cF11MSnwya5u"
      },
      "execution_count": 26,
      "outputs": []
    },
    {
      "cell_type": "code",
      "source": [
        "df['Label'] = label_predictions"
      ],
      "metadata": {
        "id": "KDvuMiGbyjeo"
      },
      "execution_count": 27,
      "outputs": []
    },
    {
      "cell_type": "code",
      "source": [
        "df.to_csv('cnn_model.csv', index=False)"
      ],
      "metadata": {
        "id": "lOmFc8v5yTA_"
      },
      "execution_count": 28,
      "outputs": []
    }
  ]
}